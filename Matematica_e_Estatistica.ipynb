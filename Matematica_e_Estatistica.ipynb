{
  "nbformat": 4,
  "nbformat_minor": 0,
  "metadata": {
    "colab": {
      "name": "Matematica e Estatistica.ipynb",
      "provenance": [],
      "authorship_tag": "ABX9TyO5tILMq06e40lMjAAe2Q5R",
      "include_colab_link": true
    },
    "kernelspec": {
      "name": "python3",
      "display_name": "Python 3"
    },
    "language_info": {
      "name": "python"
    }
  },
  "cells": [
    {
      "cell_type": "markdown",
      "metadata": {
        "id": "view-in-github",
        "colab_type": "text"
      },
      "source": [
        "<a href=\"https://colab.research.google.com/github/vinigm/Estudos/blob/main/Matematica_e_Estatistica.ipynb\" target=\"_parent\"><img src=\"https://colab.research.google.com/assets/colab-badge.svg\" alt=\"Open In Colab\"/></a>"
      ]
    },
    {
      "cell_type": "markdown",
      "source": [
        "# **Vetorização de Problemas**\n",
        "---\n",
        "\n"
      ],
      "metadata": {
        "id": "2CDOPwnunS9v"
      }
    },
    {
      "cell_type": "markdown",
      "source": [
        "**Abordagens Estatísticas**\n",
        "- Descritiva: foco no passado para entender o presente\n",
        "- Preditiva: foca no passado para inferir no futuro"
      ],
      "metadata": {
        "id": "NbFuQv7MrGJT"
      }
    },
    {
      "cell_type": "markdown",
      "source": [
        "**VETORIZAÇÃO:** Processo de transformar um código escalar em sua forma vetorial. A vantagem de utilizarmos vetorização é que ela é mais rápida e utiliza menos memória"
      ],
      "metadata": {
        "id": "G6JFmqwVrTSO"
      }
    },
    {
      "cell_type": "markdown",
      "source": [
        "Exemplo 1: Comparar o retorno de cada cliente obtido através do investimento com o valor corrigido pela inflação. Quantos clientes \"perderam\" para a inflação?"
      ],
      "metadata": {
        "id": "4lIdx348rnY8"
      }
    },
    {
      "cell_type": "code",
      "execution_count": 1,
      "metadata": {
        "id": "Wvgd-SXEnOIn"
      },
      "outputs": [],
      "source": [
        "montante = 1000\n",
        "montante_final = 1001.5 # 0.15% de retorno"
      ]
    },
    {
      "cell_type": "code",
      "source": [
        "ipca = 0.25/100\n",
        "montante_inflacao = montante * (1+ipca)\n",
        "\n",
        "print(montante_inflacao)"
      ],
      "metadata": {
        "colab": {
          "base_uri": "https://localhost:8080/"
        },
        "id": "pcNFzGgXr6Ci",
        "outputId": "2dc75f57-19ee-4d51-9fe9-3d0154fcad78"
      },
      "execution_count": 2,
      "outputs": [
        {
          "output_type": "stream",
          "name": "stdout",
          "text": [
            "1002.5\n"
          ]
        }
      ]
    },
    {
      "cell_type": "code",
      "source": [
        "print(montante_final < montante_inflacao)"
      ],
      "metadata": {
        "colab": {
          "base_uri": "https://localhost:8080/"
        },
        "id": "-feypK95sE1B",
        "outputId": "adf12400-2c67-4759-91f8-0735faaccbee"
      },
      "execution_count": 3,
      "outputs": [
        {
          "output_type": "stream",
          "name": "stdout",
          "text": [
            "True\n"
          ]
        }
      ]
    },
    {
      "cell_type": "markdown",
      "source": [
        "Para 100 mil clientes"
      ],
      "metadata": {
        "id": "paCVeIv0sK2O"
      }
    },
    {
      "cell_type": "code",
      "source": [
        "from random import random, randint\n",
        "montante_lista = [randint(0,5000) for _ in range(0,100000)]\n",
        "montante_final_lista = [round(montante * (1+ (0.3 * random() / 100)), 2) for montante in montante_lista]                       "
      ],
      "metadata": {
        "id": "U_9IIFHqsMsR"
      },
      "execution_count": 5,
      "outputs": []
    },
    {
      "cell_type": "code",
      "source": [
        "print(montante_lista[0:5])\n",
        "print(montante_final_lista[0:5])"
      ],
      "metadata": {
        "colab": {
          "base_uri": "https://localhost:8080/"
        },
        "id": "L8zUc_qss6jK",
        "outputId": "53946bf7-2b4c-4551-a769-edfbdd216744"
      },
      "execution_count": 7,
      "outputs": [
        {
          "output_type": "stream",
          "name": "stdout",
          "text": [
            "[2014, 3196, 2343, 4568, 4317]\n",
            "[2017.02, 3199.53, 2348.13, 4578.14, 4322.08]\n"
          ]
        }
      ]
    },
    {
      "cell_type": "code",
      "source": [
        "from time import time\n",
        "\n",
        "perdeu = list()\n",
        "\n",
        "inicio = time()\n",
        "for montante, montante_final in zip(montante_lista, montante_final_lista):\n",
        "  perdeu.append(montante_final - montante * (1 + ipca))\n",
        "fim = time()\n",
        "\n",
        "perdeu = list(filter(lambda val: True if val < 0 else False, perdeu))\n",
        "print(f'{len(perdeu)} cliente perderam para a inflação')\n",
        "\n",
        "tempo_lista = fim - inicio\n",
        "print(tempo_lista)"
      ],
      "metadata": {
        "colab": {
          "base_uri": "https://localhost:8080/"
        },
        "id": "G5CHFwtQtS2K",
        "outputId": "dc93c333-42ff-4fc9-d527-bd81c9201d11"
      },
      "execution_count": 12,
      "outputs": [
        {
          "output_type": "stream",
          "name": "stdout",
          "text": [
            "83140 cliente perderam para a inflação\n",
            "0.03198957443237305\n"
          ]
        }
      ]
    },
    {
      "cell_type": "markdown",
      "source": [
        "**PACOTE NUMPY**"
      ],
      "metadata": {
        "id": "JcJ0O4NTuZHD"
      }
    },
    {
      "cell_type": "markdown",
      "source": [
        "Vamos vetorizar nosso calculo através da criação de vetores NumPy"
      ],
      "metadata": {
        "id": "y0diAUcMucXf"
      }
    },
    {
      "cell_type": "code",
      "source": [
        "import numpy as np\n",
        "\n",
        "montante_array = np.array(montante_lista)\n",
        "montante_final_array = np.array(montante_final_lista)"
      ],
      "metadata": {
        "id": "gc9kjdXDuf_c"
      },
      "execution_count": 13,
      "outputs": []
    },
    {
      "cell_type": "code",
      "source": [
        "print(montante_array)\n",
        "print(montante_final_array)"
      ],
      "metadata": {
        "colab": {
          "base_uri": "https://localhost:8080/"
        },
        "id": "Dfqc-17Nuorb",
        "outputId": "eb8e5909-8328-4f33-e422-5919287af322"
      },
      "execution_count": 14,
      "outputs": [
        {
          "output_type": "stream",
          "name": "stdout",
          "text": [
            "[2014 3196 2343 ... 1436 4144  547]\n",
            "[2017.02 3199.53 2348.13 ... 1437.85 4144.15  548.3 ]\n"
          ]
        }
      ]
    },
    {
      "cell_type": "code",
      "source": [
        "from time import time\n",
        "\n",
        "inicio = time()\n",
        "perdeu = montante_final_array - montante_array * (1 + ipca)\n",
        "fim = time()\n",
        "\n",
        "perdeu = list(filter(lambda val: True if val < 0 else False, perdeu))\n",
        "print(f\"{len(perdeu)} cliente eprderam para a inflação\")\n",
        "\n",
        "tempo_array = fim - inicio\n",
        "print(f\"Duração: {tempo_array}\")\n"
      ],
      "metadata": {
        "colab": {
          "base_uri": "https://localhost:8080/"
        },
        "id": "jVQgnmBAuw5o",
        "outputId": "76dd1d2e-5a64-4e01-8c43-c9d30e36aa1a"
      },
      "execution_count": 17,
      "outputs": [
        {
          "output_type": "stream",
          "name": "stdout",
          "text": [
            "83140 cliente eprderam para a inflação\n",
            "Duração: 0.0023941993713378906\n"
          ]
        }
      ]
    },
    {
      "cell_type": "markdown",
      "source": [
        "Comparando os tempos de execução das operações escalares e vetoriais"
      ],
      "metadata": {
        "id": "OmBX5GbSvcsu"
      }
    },
    {
      "cell_type": "code",
      "source": [
        "tempo_lista / tempo_array # Vemos assim que fazendo através de vetorização aumentamos o tempo de processamento 13x"
      ],
      "metadata": {
        "colab": {
          "base_uri": "https://localhost:8080/"
        },
        "id": "0_UDfessvlOh",
        "outputId": "50f8c025-0337-40f2-fd2a-43e565150617"
      },
      "execution_count": 19,
      "outputs": [
        {
          "output_type": "execute_result",
          "data": {
            "text/plain": [
              "13.361282613025294"
            ]
          },
          "metadata": {},
          "execution_count": 19
        }
      ]
    },
    {
      "cell_type": "markdown",
      "source": [
        "# **Introdução ao NumPy**\n",
        "\n",
        "---\n",
        "\n"
      ],
      "metadata": {
        "id": "rklZI0mLv5eY"
      }
    },
    {
      "cell_type": "markdown",
      "source": [
        "**Arrays vs Listas**\n",
        "\n",
        "Ambos servem para armazenar dados sequencialmente na memória, contudo é importante maximizar suas diferenças:\n",
        "\n",
        "- Manipulação algébrica: Arrays apresentam uma sintaxe mais simples e eficiente\n",
        "- Listas sempre trabalham de forma escalar"
      ],
      "metadata": {
        "id": "g_taGiTawCEe"
      }
    },
    {
      "cell_type": "markdown",
      "source": [
        "Exemplo escalar:"
      ],
      "metadata": {
        "id": "O-LsLAFWwTZo"
      }
    },
    {
      "cell_type": "code",
      "source": [
        "l1 = [1, 2, 3]\n",
        "l2 = [4, 5, 6]\n",
        "\n",
        "l3 = [a + b for a, b in zip(l1, l2)]\n",
        "print(l3)"
      ],
      "metadata": {
        "colab": {
          "base_uri": "https://localhost:8080/"
        },
        "id": "K-6wEv3Ev90n",
        "outputId": "b4016843-9f42-4d85-de6e-bfd35098e753"
      },
      "execution_count": 2,
      "outputs": [
        {
          "output_type": "stream",
          "name": "stdout",
          "text": [
            "[5, 7, 9]\n"
          ]
        }
      ]
    },
    {
      "cell_type": "markdown",
      "source": [
        "Exemplo vetorial:"
      ],
      "metadata": {
        "id": "gjJv7ggkyw3c"
      }
    },
    {
      "cell_type": "code",
      "source": [
        "import numpy as np\n",
        "\n",
        "a1 = np.array(l1)\n",
        "a2 = np.array(l2)\n",
        "\n",
        "a3 = a1 + a2\n",
        "print(a3)"
      ],
      "metadata": {
        "colab": {
          "base_uri": "https://localhost:8080/"
        },
        "id": "2YjWwZo4xxzk",
        "outputId": "63f0d5b3-7a93-4e0b-9915-dcd0a89f5088"
      },
      "execution_count": 3,
      "outputs": [
        {
          "output_type": "stream",
          "name": "stdout",
          "text": [
            "[5 7 9]\n"
          ]
        }
      ]
    },
    {
      "cell_type": "markdown",
      "source": [
        "- Tipo: arrays trabalham melhor com elementos do mesmo tipo\n",
        "- Mutabilidade: arrays são menos eficientes quanto a inserção e remoção de elementos"
      ],
      "metadata": {
        "id": "Un9cPCsMy8jq"
      }
    },
    {
      "cell_type": "markdown",
      "source": [
        "**Arrays 1D: Vetores**\n",
        "\n",
        "Arrays NumPy de uma dimensão são conhecidos como **vetores**, como listas, de uma linha e uma ou mais colunas."
      ],
      "metadata": {
        "id": "ZcUhnrlCzEt0"
      }
    },
    {
      "cell_type": "markdown",
      "source": [
        "Criação:"
      ],
      "metadata": {
        "id": "WD-Mo_yszcxw"
      }
    },
    {
      "cell_type": "code",
      "source": [
        "a1 = np.array([2, 4, 6, 8])\n",
        "print(a1)"
      ],
      "metadata": {
        "colab": {
          "base_uri": "https://localhost:8080/"
        },
        "id": "jXft0ZXozgdR",
        "outputId": "862150ea-6432-44f4-eed9-72118f447443"
      },
      "execution_count": 5,
      "outputs": [
        {
          "output_type": "stream",
          "name": "stdout",
          "text": [
            "[2 4 6 8]\n"
          ]
        }
      ]
    },
    {
      "cell_type": "code",
      "source": [
        "a1 = np.arange(0, 10, 2)\n",
        "print(a1)"
      ],
      "metadata": {
        "colab": {
          "base_uri": "https://localhost:8080/"
        },
        "id": "WEP-oTdrzpqp",
        "outputId": "fc2251e0-67a6-4a02-b737-7d6b63f307dc"
      },
      "execution_count": 7,
      "outputs": [
        {
          "output_type": "stream",
          "name": "stdout",
          "text": [
            "[0 2 4 6 8]\n"
          ]
        }
      ]
    },
    {
      "cell_type": "code",
      "source": [
        "a1 = np.zeros(10)\n",
        "print(a1)\n",
        "\n",
        "a1 = 10 * np.ones(10)\n",
        "print(a1)"
      ],
      "metadata": {
        "colab": {
          "base_uri": "https://localhost:8080/"
        },
        "id": "nbguJAdCzz7T",
        "outputId": "0e8023fc-fdc9-4eaf-8529-d7622b151be2"
      },
      "execution_count": 10,
      "outputs": [
        {
          "output_type": "stream",
          "name": "stdout",
          "text": [
            "[0. 0. 0. 0. 0. 0. 0. 0. 0. 0.]\n",
            "[10. 10. 10. 10. 10. 10. 10. 10. 10. 10.]\n"
          ]
        }
      ]
    },
    {
      "cell_type": "markdown",
      "source": [
        "Manipulação:"
      ],
      "metadata": {
        "id": "g9SUYF0Iz_lf"
      }
    },
    {
      "cell_type": "code",
      "source": [
        "a1 = np.array([2,4,6,8])\n",
        "print(a1)"
      ],
      "metadata": {
        "colab": {
          "base_uri": "https://localhost:8080/"
        },
        "id": "_IrhTpG50BfN",
        "outputId": "61280eed-912d-4946-d7b2-f401288db90a"
      },
      "execution_count": 11,
      "outputs": [
        {
          "output_type": "stream",
          "name": "stdout",
          "text": [
            "[2 4 6 8]\n"
          ]
        }
      ]
    },
    {
      "cell_type": "code",
      "source": [
        "a1[0]"
      ],
      "metadata": {
        "colab": {
          "base_uri": "https://localhost:8080/"
        },
        "id": "40p1QReR0HbH",
        "outputId": "64b28c16-68a0-4683-eaee-f3817fe30f0b"
      },
      "execution_count": 13,
      "outputs": [
        {
          "output_type": "execute_result",
          "data": {
            "text/plain": [
              "array([6, 8])"
            ]
          },
          "metadata": {},
          "execution_count": 13
        }
      ]
    },
    {
      "cell_type": "code",
      "source": [
        "a1[0:2]"
      ],
      "metadata": {
        "colab": {
          "base_uri": "https://localhost:8080/"
        },
        "id": "dJWj4D-50PLx",
        "outputId": "be7c01fe-2864-4032-acd4-e57c8e55fb6e"
      },
      "execution_count": 14,
      "outputs": [
        {
          "output_type": "execute_result",
          "data": {
            "text/plain": [
              "array([2, 4])"
            ]
          },
          "metadata": {},
          "execution_count": 14
        }
      ]
    },
    {
      "cell_type": "code",
      "source": [
        "a1[a1>4]"
      ],
      "metadata": {
        "colab": {
          "base_uri": "https://localhost:8080/"
        },
        "id": "ps7JCAwV0QaG",
        "outputId": "0eaacfbc-0fe9-4674-a384-ed7b6cf85c0e"
      },
      "execution_count": 15,
      "outputs": [
        {
          "output_type": "execute_result",
          "data": {
            "text/plain": [
              "array([6, 8])"
            ]
          },
          "metadata": {},
          "execution_count": 15
        }
      ]
    },
    {
      "cell_type": "markdown",
      "source": [
        "Atributos:"
      ],
      "metadata": {
        "id": "eUuZnaUt0Szv"
      }
    },
    {
      "cell_type": "code",
      "source": [
        "a1.ndim"
      ],
      "metadata": {
        "colab": {
          "base_uri": "https://localhost:8080/"
        },
        "id": "nseOl-9Y0Top",
        "outputId": "285c25da-d9d2-41ce-eb1e-eac74dde1eb4"
      },
      "execution_count": 16,
      "outputs": [
        {
          "output_type": "execute_result",
          "data": {
            "text/plain": [
              "1"
            ]
          },
          "metadata": {},
          "execution_count": 16
        }
      ]
    },
    {
      "cell_type": "code",
      "source": [
        "a1.shape"
      ],
      "metadata": {
        "colab": {
          "base_uri": "https://localhost:8080/"
        },
        "id": "oGbdKIf10Vbq",
        "outputId": "01680cdf-d4f1-4de2-ea90-c0aa17a3b338"
      },
      "execution_count": 17,
      "outputs": [
        {
          "output_type": "execute_result",
          "data": {
            "text/plain": [
              "(4,)"
            ]
          },
          "metadata": {},
          "execution_count": 17
        }
      ]
    },
    {
      "cell_type": "code",
      "source": [
        "a1.size"
      ],
      "metadata": {
        "colab": {
          "base_uri": "https://localhost:8080/"
        },
        "id": "B6MYjecX0XlE",
        "outputId": "cffc222a-b03f-48ad-e0a8-7693dd333595"
      },
      "execution_count": 18,
      "outputs": [
        {
          "output_type": "execute_result",
          "data": {
            "text/plain": [
              "4"
            ]
          },
          "metadata": {},
          "execution_count": 18
        }
      ]
    },
    {
      "cell_type": "code",
      "source": [
        "a1.dtype"
      ],
      "metadata": {
        "colab": {
          "base_uri": "https://localhost:8080/"
        },
        "id": "2_phsolz0Zhz",
        "outputId": "a316382d-bcb2-47d5-e8e8-3aa10156bece"
      },
      "execution_count": 19,
      "outputs": [
        {
          "output_type": "execute_result",
          "data": {
            "text/plain": [
              "dtype('int64')"
            ]
          },
          "metadata": {},
          "execution_count": 19
        }
      ]
    },
    {
      "cell_type": "markdown",
      "source": [
        "Metodos:"
      ],
      "metadata": {
        "id": "zFaoLwTS0bpx"
      }
    },
    {
      "cell_type": "code",
      "source": [
        "a1.sort() # \"inplace\"\n",
        "print(a1)"
      ],
      "metadata": {
        "colab": {
          "base_uri": "https://localhost:8080/"
        },
        "id": "jPLWF32f0c7I",
        "outputId": "b420d260-5c2e-4c7d-bc2c-a090868c8aa4"
      },
      "execution_count": 20,
      "outputs": [
        {
          "output_type": "stream",
          "name": "stdout",
          "text": [
            "[2 4 6 8]\n"
          ]
        }
      ]
    },
    {
      "cell_type": "code",
      "source": [
        "a1.tolist()"
      ],
      "metadata": {
        "colab": {
          "base_uri": "https://localhost:8080/"
        },
        "id": "JYgG43dt0hNi",
        "outputId": "7f85fddb-d10f-41d4-be3e-bb7a00011e23"
      },
      "execution_count": 21,
      "outputs": [
        {
          "output_type": "execute_result",
          "data": {
            "text/plain": [
              "[2, 4, 6, 8]"
            ]
          },
          "metadata": {},
          "execution_count": 21
        }
      ]
    },
    {
      "cell_type": "markdown",
      "source": [
        "**Arrays 2D: Matrizes**"
      ],
      "metadata": {
        "id": "Ggo1VIoN0nNX"
      }
    },
    {
      "cell_type": "markdown",
      "source": [
        "Arrays NumPy de duas dimensões são conhecidos como **matrizes**, como tabelas, com linhas e colunas."
      ],
      "metadata": {
        "id": "aqBj6HHB0qi1"
      }
    },
    {
      "cell_type": "markdown",
      "source": [
        "Criação:"
      ],
      "metadata": {
        "id": "Ys2jSXMo0x1u"
      }
    },
    {
      "cell_type": "code",
      "source": [
        "m1 = np.array([[1,2,3], [4,5,6]]) # vetores como linhas\n",
        "print(m1)"
      ],
      "metadata": {
        "colab": {
          "base_uri": "https://localhost:8080/"
        },
        "id": "5xDteUY50yxl",
        "outputId": "ad016d99-1f8d-471b-a3dc-0c93dcef16a0"
      },
      "execution_count": 23,
      "outputs": [
        {
          "output_type": "stream",
          "name": "stdout",
          "text": [
            "[[1 2 3]\n",
            " [4 5 6]]\n"
          ]
        }
      ]
    },
    {
      "cell_type": "markdown",
      "source": [
        "ManipulaçãO:"
      ],
      "metadata": {
        "id": "Z1gzSFhc0-ps"
      }
    },
    {
      "cell_type": "code",
      "source": [
        "m1[1,2]"
      ],
      "metadata": {
        "colab": {
          "base_uri": "https://localhost:8080/"
        },
        "id": "5Nk6Rm0M0_1i",
        "outputId": "2eeb73be-717c-4901-a15b-42966a8450fd"
      },
      "execution_count": 24,
      "outputs": [
        {
          "output_type": "execute_result",
          "data": {
            "text/plain": [
              "6"
            ]
          },
          "metadata": {},
          "execution_count": 24
        }
      ]
    },
    {
      "cell_type": "code",
      "source": [
        "m1[1,:]"
      ],
      "metadata": {
        "colab": {
          "base_uri": "https://localhost:8080/"
        },
        "id": "Plpd84NH1C-f",
        "outputId": "e654c12d-c1e2-4a2d-81a8-d1d888c79c4d"
      },
      "execution_count": 25,
      "outputs": [
        {
          "output_type": "execute_result",
          "data": {
            "text/plain": [
              "array([4, 5, 6])"
            ]
          },
          "metadata": {},
          "execution_count": 25
        }
      ]
    },
    {
      "cell_type": "code",
      "source": [
        "m1[:,1]"
      ],
      "metadata": {
        "colab": {
          "base_uri": "https://localhost:8080/"
        },
        "id": "fqV3mtYV1IF2",
        "outputId": "50005a11-0b43-4213-c0bb-439d151a652f"
      },
      "execution_count": 26,
      "outputs": [
        {
          "output_type": "execute_result",
          "data": {
            "text/plain": [
              "array([2, 5])"
            ]
          },
          "metadata": {},
          "execution_count": 26
        }
      ]
    },
    {
      "cell_type": "markdown",
      "source": [
        "Atributos:"
      ],
      "metadata": {
        "id": "EXVwQGhO1OTx"
      }
    },
    {
      "cell_type": "code",
      "source": [
        "m1.ndim"
      ],
      "metadata": {
        "colab": {
          "base_uri": "https://localhost:8080/"
        },
        "id": "gFypB6Hx1MnN",
        "outputId": "748b66a0-4d15-4d1f-b46b-e70addfd60b7"
      },
      "execution_count": 27,
      "outputs": [
        {
          "output_type": "execute_result",
          "data": {
            "text/plain": [
              "2"
            ]
          },
          "metadata": {},
          "execution_count": 27
        }
      ]
    },
    {
      "cell_type": "code",
      "source": [
        "m1.shape"
      ],
      "metadata": {
        "colab": {
          "base_uri": "https://localhost:8080/"
        },
        "id": "MThCaMNK1u6K",
        "outputId": "aca98ebf-9799-4827-a468-bc57a5c7476a"
      },
      "execution_count": 28,
      "outputs": [
        {
          "output_type": "execute_result",
          "data": {
            "text/plain": [
              "(2, 3)"
            ]
          },
          "metadata": {},
          "execution_count": 28
        }
      ]
    },
    {
      "cell_type": "code",
      "source": [
        "m1.dtype"
      ],
      "metadata": {
        "colab": {
          "base_uri": "https://localhost:8080/"
        },
        "id": "6W_Qy7JL1wx9",
        "outputId": "57d307a9-81c8-4cdb-af10-f674e1800b2d"
      },
      "execution_count": 29,
      "outputs": [
        {
          "output_type": "execute_result",
          "data": {
            "text/plain": [
              "dtype('int64')"
            ]
          },
          "metadata": {},
          "execution_count": 29
        }
      ]
    },
    {
      "cell_type": "code",
      "source": [
        "m1.sort()\n",
        "print(m1)"
      ],
      "metadata": {
        "colab": {
          "base_uri": "https://localhost:8080/"
        },
        "id": "E6qfw-nC1zV2",
        "outputId": "07d9d8b2-0e78-4a82-d8d2-e85e6a34ce8a"
      },
      "execution_count": 30,
      "outputs": [
        {
          "output_type": "stream",
          "name": "stdout",
          "text": [
            "[[1 2 3]\n",
            " [4 5 6]]\n"
          ]
        }
      ]
    },
    {
      "cell_type": "code",
      "source": [
        "m1.tolist()"
      ],
      "metadata": {
        "colab": {
          "base_uri": "https://localhost:8080/"
        },
        "id": "_X_6nlC112dP",
        "outputId": "37a940af-b3a1-4809-a87b-d97a62413b86"
      },
      "execution_count": 31,
      "outputs": [
        {
          "output_type": "execute_result",
          "data": {
            "text/plain": [
              "[[1, 2, 3], [4, 5, 6]]"
            ]
          },
          "metadata": {},
          "execution_count": 31
        }
      ]
    }
  ]
}