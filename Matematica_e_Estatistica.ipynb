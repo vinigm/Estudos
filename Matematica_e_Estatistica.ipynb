{
  "nbformat": 4,
  "nbformat_minor": 0,
  "metadata": {
    "colab": {
      "name": "Matematica e Estatistica.ipynb",
      "provenance": [],
      "authorship_tag": "ABX9TyO5dgV+AoXaOF8FwAxdCVo4",
      "include_colab_link": true
    },
    "kernelspec": {
      "name": "python3",
      "display_name": "Python 3"
    },
    "language_info": {
      "name": "python"
    }
  },
  "cells": [
    {
      "cell_type": "markdown",
      "metadata": {
        "id": "view-in-github",
        "colab_type": "text"
      },
      "source": [
        "<a href=\"https://colab.research.google.com/github/vinigm/Estudos/blob/main/Matematica_e_Estatistica.ipynb\" target=\"_parent\"><img src=\"https://colab.research.google.com/assets/colab-badge.svg\" alt=\"Open In Colab\"/></a>"
      ]
    },
    {
      "cell_type": "markdown",
      "source": [
        "# **Vetorização de Problemas**\n",
        "---\n",
        "\n"
      ],
      "metadata": {
        "id": "2CDOPwnunS9v"
      }
    },
    {
      "cell_type": "markdown",
      "source": [
        "**Abordagens Estatísticas**\n",
        "- Descritiva: foco no passado para entender o presente\n",
        "- Preditiva: foca no passado para inferir no futuro"
      ],
      "metadata": {
        "id": "NbFuQv7MrGJT"
      }
    },
    {
      "cell_type": "markdown",
      "source": [
        "**VETORIZAÇÃO:** Processo de transformar um código escalar em sua forma vetorial. A vantagem de utilizarmos vetorização é que ela é mais rápida e utiliza menos memória"
      ],
      "metadata": {
        "id": "G6JFmqwVrTSO"
      }
    },
    {
      "cell_type": "markdown",
      "source": [
        "Exemplo 1: Comparar o retorno de cada cliente obtido através do investimento com o valor corrigido pela inflação. Quantos clientes \"perderam\" para a inflação?"
      ],
      "metadata": {
        "id": "4lIdx348rnY8"
      }
    },
    {
      "cell_type": "code",
      "execution_count": 91,
      "metadata": {
        "id": "Wvgd-SXEnOIn"
      },
      "outputs": [],
      "source": [
        "montante = 1000\n",
        "montante_final = 1001.5 # 0.15% de retorno"
      ]
    },
    {
      "cell_type": "code",
      "source": [
        "ipca = 0.25/100\n",
        "montante_inflacao = montante * (1+ipca)\n",
        "\n",
        "print(montante_inflacao)"
      ],
      "metadata": {
        "colab": {
          "base_uri": "https://localhost:8080/"
        },
        "id": "pcNFzGgXr6Ci",
        "outputId": "bc47f502-136a-43cd-9d0c-4183243b42b0"
      },
      "execution_count": 92,
      "outputs": [
        {
          "output_type": "stream",
          "name": "stdout",
          "text": [
            "1002.5\n"
          ]
        }
      ]
    },
    {
      "cell_type": "code",
      "source": [
        "print(montante_final < montante_inflacao)"
      ],
      "metadata": {
        "colab": {
          "base_uri": "https://localhost:8080/"
        },
        "id": "-feypK95sE1B",
        "outputId": "ede5d137-e26a-4c7b-eaa2-cfb034bf90ec"
      },
      "execution_count": 93,
      "outputs": [
        {
          "output_type": "stream",
          "name": "stdout",
          "text": [
            "True\n"
          ]
        }
      ]
    },
    {
      "cell_type": "markdown",
      "source": [
        "Para 100 mil clientes"
      ],
      "metadata": {
        "id": "paCVeIv0sK2O"
      }
    },
    {
      "cell_type": "code",
      "source": [
        "from random import random, randint\n",
        "montante_lista = [randint(0,5000) for _ in range(0,100000)]\n",
        "montante_final_lista = [round(montante * (1+ (0.3 * random() / 100)), 2) for montante in montante_lista]                       "
      ],
      "metadata": {
        "id": "U_9IIFHqsMsR"
      },
      "execution_count": 94,
      "outputs": []
    },
    {
      "cell_type": "code",
      "source": [
        "print(montante_lista[0:5])\n",
        "print(montante_final_lista[0:5])"
      ],
      "metadata": {
        "colab": {
          "base_uri": "https://localhost:8080/"
        },
        "id": "L8zUc_qss6jK",
        "outputId": "8a144586-a73e-43ba-890d-66ca35ebbaed"
      },
      "execution_count": 95,
      "outputs": [
        {
          "output_type": "stream",
          "name": "stdout",
          "text": [
            "[1293, 117, 113, 3013, 2529]\n",
            "[1293.14, 117.27, 113.23, 3021.23, 2533.22]\n"
          ]
        }
      ]
    },
    {
      "cell_type": "code",
      "source": [
        "from time import time\n",
        "\n",
        "perdeu = list()\n",
        "\n",
        "inicio = time()\n",
        "for montante, montante_final in zip(montante_lista, montante_final_lista):\n",
        "  perdeu.append(montante_final - montante * (1 + ipca))\n",
        "fim = time()\n",
        "\n",
        "perdeu = list(filter(lambda val: True if val < 0 else False, perdeu))\n",
        "print(f'{len(perdeu)} cliente perderam para a inflação')\n",
        "\n",
        "tempo_lista = fim - inicio\n",
        "print(tempo_lista)"
      ],
      "metadata": {
        "colab": {
          "base_uri": "https://localhost:8080/"
        },
        "id": "G5CHFwtQtS2K",
        "outputId": "898c15f2-65bb-45b4-e649-17228629b580"
      },
      "execution_count": 96,
      "outputs": [
        {
          "output_type": "stream",
          "name": "stdout",
          "text": [
            "82944 cliente perderam para a inflação\n",
            "0.03893399238586426\n"
          ]
        }
      ]
    },
    {
      "cell_type": "markdown",
      "source": [
        "**PACOTE NUMPY**"
      ],
      "metadata": {
        "id": "JcJ0O4NTuZHD"
      }
    },
    {
      "cell_type": "markdown",
      "source": [
        "Vamos vetorizar nosso calculo através da criação de vetores NumPy"
      ],
      "metadata": {
        "id": "y0diAUcMucXf"
      }
    },
    {
      "cell_type": "code",
      "source": [
        "import numpy as np\n",
        "\n",
        "montante_array = np.array(montante_lista)\n",
        "montante_final_array = np.array(montante_final_lista)"
      ],
      "metadata": {
        "id": "gc9kjdXDuf_c"
      },
      "execution_count": 97,
      "outputs": []
    },
    {
      "cell_type": "code",
      "source": [
        "print(montante_array)\n",
        "print(montante_final_array)"
      ],
      "metadata": {
        "colab": {
          "base_uri": "https://localhost:8080/"
        },
        "id": "Dfqc-17Nuorb",
        "outputId": "9c0ca1bb-0c96-40d1-a652-36bec44d3577"
      },
      "execution_count": 98,
      "outputs": [
        {
          "output_type": "stream",
          "name": "stdout",
          "text": [
            "[1293  117  113 ...  478 2242 2831]\n",
            "[1293.14  117.27  113.23 ...  478.19 2246.69 2833.  ]\n"
          ]
        }
      ]
    },
    {
      "cell_type": "code",
      "source": [
        "from time import time\n",
        "\n",
        "inicio = time()\n",
        "perdeu = montante_final_array - montante_array * (1 + ipca)\n",
        "fim = time()\n",
        "\n",
        "perdeu = list(filter(lambda val: True if val < 0 else False, perdeu))\n",
        "print(f\"{len(perdeu)} cliente eprderam para a inflação\")\n",
        "\n",
        "tempo_array = fim - inicio\n",
        "print(f\"Duração: {tempo_array}\")\n"
      ],
      "metadata": {
        "colab": {
          "base_uri": "https://localhost:8080/"
        },
        "id": "jVQgnmBAuw5o",
        "outputId": "acbaac6b-6a58-4b03-acda-1adaadb4affa"
      },
      "execution_count": 99,
      "outputs": [
        {
          "output_type": "stream",
          "name": "stdout",
          "text": [
            "82944 cliente eprderam para a inflação\n",
            "Duração: 0.004309892654418945\n"
          ]
        }
      ]
    },
    {
      "cell_type": "markdown",
      "source": [
        "Comparando os tempos de execução das operações escalares e vetoriais"
      ],
      "metadata": {
        "id": "OmBX5GbSvcsu"
      }
    },
    {
      "cell_type": "code",
      "source": [
        "tempo_lista / tempo_array # Vemos assim que fazendo através de vetorização aumentamos o tempo de processamento 13x"
      ],
      "metadata": {
        "colab": {
          "base_uri": "https://localhost:8080/"
        },
        "id": "0_UDfessvlOh",
        "outputId": "20903a65-d8bd-4ae4-9eb4-26251a0801fb"
      },
      "execution_count": 100,
      "outputs": [
        {
          "output_type": "execute_result",
          "data": {
            "text/plain": [
              "9.033633899430216"
            ]
          },
          "metadata": {},
          "execution_count": 100
        }
      ]
    },
    {
      "cell_type": "markdown",
      "source": [
        "# **Introdução ao NumPy**\n",
        "\n",
        "---\n",
        "\n"
      ],
      "metadata": {
        "id": "rklZI0mLv5eY"
      }
    },
    {
      "cell_type": "markdown",
      "source": [
        "**Arrays vs Listas**\n",
        "\n",
        "Ambos servem para armazenar dados sequencialmente na memória, contudo é importante maximizar suas diferenças:\n",
        "\n",
        "- Manipulação algébrica: Arrays apresentam uma sintaxe mais simples e eficiente\n",
        "- Listas sempre trabalham de forma escalar"
      ],
      "metadata": {
        "id": "g_taGiTawCEe"
      }
    },
    {
      "cell_type": "markdown",
      "source": [
        "Exemplo escalar:"
      ],
      "metadata": {
        "id": "O-LsLAFWwTZo"
      }
    },
    {
      "cell_type": "code",
      "source": [
        "l1 = [1, 2, 3]\n",
        "l2 = [4, 5, 6]\n",
        "\n",
        "l3 = [a + b for a, b in zip(l1, l2)]\n",
        "print(l3)"
      ],
      "metadata": {
        "colab": {
          "base_uri": "https://localhost:8080/"
        },
        "id": "K-6wEv3Ev90n",
        "outputId": "57b08dbc-bef9-4fb5-d3cb-b9ba620bdde8"
      },
      "execution_count": 101,
      "outputs": [
        {
          "output_type": "stream",
          "name": "stdout",
          "text": [
            "[5, 7, 9]\n"
          ]
        }
      ]
    },
    {
      "cell_type": "markdown",
      "source": [
        "Exemplo vetorial:"
      ],
      "metadata": {
        "id": "gjJv7ggkyw3c"
      }
    },
    {
      "cell_type": "code",
      "source": [
        "import numpy as np\n",
        "\n",
        "a1 = np.array(l1)\n",
        "a2 = np.array(l2)\n",
        "\n",
        "a3 = a1 + a2\n",
        "print(a3)"
      ],
      "metadata": {
        "colab": {
          "base_uri": "https://localhost:8080/"
        },
        "id": "2YjWwZo4xxzk",
        "outputId": "2ad78b68-4262-4269-93f8-cbe668c04379"
      },
      "execution_count": 102,
      "outputs": [
        {
          "output_type": "stream",
          "name": "stdout",
          "text": [
            "[5 7 9]\n"
          ]
        }
      ]
    },
    {
      "cell_type": "markdown",
      "source": [
        "- Tipo: arrays trabalham melhor com elementos do mesmo tipo\n",
        "- Mutabilidade: arrays são menos eficientes quanto a inserção e remoção de elementos"
      ],
      "metadata": {
        "id": "Un9cPCsMy8jq"
      }
    },
    {
      "cell_type": "markdown",
      "source": [
        "**Arrays 1D: Vetores**\n",
        "\n",
        "Arrays NumPy de uma dimensão são conhecidos como **vetores**, como listas, de uma linha e uma ou mais colunas."
      ],
      "metadata": {
        "id": "ZcUhnrlCzEt0"
      }
    },
    {
      "cell_type": "markdown",
      "source": [
        "Criação:"
      ],
      "metadata": {
        "id": "WD-Mo_yszcxw"
      }
    },
    {
      "cell_type": "code",
      "source": [
        "a1 = np.array([2, 4, 6, 8])\n",
        "print(a1)"
      ],
      "metadata": {
        "colab": {
          "base_uri": "https://localhost:8080/"
        },
        "id": "jXft0ZXozgdR",
        "outputId": "3d1c7ec9-57d2-48e3-b4fe-d99339500e38"
      },
      "execution_count": 103,
      "outputs": [
        {
          "output_type": "stream",
          "name": "stdout",
          "text": [
            "[2 4 6 8]\n"
          ]
        }
      ]
    },
    {
      "cell_type": "code",
      "source": [
        "a1 = np.arange(0, 10, 2)\n",
        "print(a1)"
      ],
      "metadata": {
        "colab": {
          "base_uri": "https://localhost:8080/"
        },
        "id": "WEP-oTdrzpqp",
        "outputId": "8ec488b4-ec76-414f-df66-b7dc3a352dc8"
      },
      "execution_count": 104,
      "outputs": [
        {
          "output_type": "stream",
          "name": "stdout",
          "text": [
            "[0 2 4 6 8]\n"
          ]
        }
      ]
    },
    {
      "cell_type": "code",
      "source": [
        "a1 = np.zeros(10)\n",
        "print(a1)\n",
        "\n",
        "a1 = 10 * np.ones(10)\n",
        "print(a1)"
      ],
      "metadata": {
        "colab": {
          "base_uri": "https://localhost:8080/"
        },
        "id": "nbguJAdCzz7T",
        "outputId": "57634a4b-0313-4413-c6b0-14a7be89a967"
      },
      "execution_count": 105,
      "outputs": [
        {
          "output_type": "stream",
          "name": "stdout",
          "text": [
            "[0. 0. 0. 0. 0. 0. 0. 0. 0. 0.]\n",
            "[10. 10. 10. 10. 10. 10. 10. 10. 10. 10.]\n"
          ]
        }
      ]
    },
    {
      "cell_type": "markdown",
      "source": [
        "Manipulação:"
      ],
      "metadata": {
        "id": "g9SUYF0Iz_lf"
      }
    },
    {
      "cell_type": "code",
      "source": [
        "a1 = np.array([2,4,6,8])\n",
        "print(a1)"
      ],
      "metadata": {
        "colab": {
          "base_uri": "https://localhost:8080/"
        },
        "id": "_IrhTpG50BfN",
        "outputId": "f0dba7bc-10d9-47db-a1c1-712b5017a6de"
      },
      "execution_count": 106,
      "outputs": [
        {
          "output_type": "stream",
          "name": "stdout",
          "text": [
            "[2 4 6 8]\n"
          ]
        }
      ]
    },
    {
      "cell_type": "code",
      "source": [
        "a1[0]"
      ],
      "metadata": {
        "colab": {
          "base_uri": "https://localhost:8080/"
        },
        "id": "40p1QReR0HbH",
        "outputId": "cf16b915-205c-4eb5-a6f0-c3dec26b36fe"
      },
      "execution_count": 107,
      "outputs": [
        {
          "output_type": "execute_result",
          "data": {
            "text/plain": [
              "2"
            ]
          },
          "metadata": {},
          "execution_count": 107
        }
      ]
    },
    {
      "cell_type": "code",
      "source": [
        "a1[0:2]"
      ],
      "metadata": {
        "colab": {
          "base_uri": "https://localhost:8080/"
        },
        "id": "dJWj4D-50PLx",
        "outputId": "145689f5-e9d9-4f2d-989a-c3698d4adbcd"
      },
      "execution_count": 108,
      "outputs": [
        {
          "output_type": "execute_result",
          "data": {
            "text/plain": [
              "array([2, 4])"
            ]
          },
          "metadata": {},
          "execution_count": 108
        }
      ]
    },
    {
      "cell_type": "code",
      "source": [
        "a1[a1>4]"
      ],
      "metadata": {
        "colab": {
          "base_uri": "https://localhost:8080/"
        },
        "id": "ps7JCAwV0QaG",
        "outputId": "1e61be7c-3f52-493c-8492-00b62c9882d2"
      },
      "execution_count": 109,
      "outputs": [
        {
          "output_type": "execute_result",
          "data": {
            "text/plain": [
              "array([6, 8])"
            ]
          },
          "metadata": {},
          "execution_count": 109
        }
      ]
    },
    {
      "cell_type": "markdown",
      "source": [
        "Atributos:"
      ],
      "metadata": {
        "id": "eUuZnaUt0Szv"
      }
    },
    {
      "cell_type": "code",
      "source": [
        "a1.ndim"
      ],
      "metadata": {
        "colab": {
          "base_uri": "https://localhost:8080/"
        },
        "id": "nseOl-9Y0Top",
        "outputId": "daef994f-4a35-459a-da11-65fe3b8b1985"
      },
      "execution_count": 110,
      "outputs": [
        {
          "output_type": "execute_result",
          "data": {
            "text/plain": [
              "1"
            ]
          },
          "metadata": {},
          "execution_count": 110
        }
      ]
    },
    {
      "cell_type": "code",
      "source": [
        "a1.shape"
      ],
      "metadata": {
        "colab": {
          "base_uri": "https://localhost:8080/"
        },
        "id": "oGbdKIf10Vbq",
        "outputId": "81ac807c-e387-47a7-8a34-4b097b3e5a39"
      },
      "execution_count": 111,
      "outputs": [
        {
          "output_type": "execute_result",
          "data": {
            "text/plain": [
              "(4,)"
            ]
          },
          "metadata": {},
          "execution_count": 111
        }
      ]
    },
    {
      "cell_type": "code",
      "source": [
        "a1.size"
      ],
      "metadata": {
        "colab": {
          "base_uri": "https://localhost:8080/"
        },
        "id": "B6MYjecX0XlE",
        "outputId": "c23b4320-145b-41e4-8b7a-43c8431e2a5e"
      },
      "execution_count": 112,
      "outputs": [
        {
          "output_type": "execute_result",
          "data": {
            "text/plain": [
              "4"
            ]
          },
          "metadata": {},
          "execution_count": 112
        }
      ]
    },
    {
      "cell_type": "code",
      "source": [
        "a1.dtype"
      ],
      "metadata": {
        "colab": {
          "base_uri": "https://localhost:8080/"
        },
        "id": "2_phsolz0Zhz",
        "outputId": "16757e96-7bce-4475-e34e-7c59c0cf2b37"
      },
      "execution_count": 113,
      "outputs": [
        {
          "output_type": "execute_result",
          "data": {
            "text/plain": [
              "dtype('int64')"
            ]
          },
          "metadata": {},
          "execution_count": 113
        }
      ]
    },
    {
      "cell_type": "markdown",
      "source": [
        "Metodos:"
      ],
      "metadata": {
        "id": "zFaoLwTS0bpx"
      }
    },
    {
      "cell_type": "code",
      "source": [
        "a1.sort() # \"inplace\"\n",
        "print(a1)"
      ],
      "metadata": {
        "colab": {
          "base_uri": "https://localhost:8080/"
        },
        "id": "jPLWF32f0c7I",
        "outputId": "0b292f98-cbb5-4407-86f0-a9c20cc92448"
      },
      "execution_count": 114,
      "outputs": [
        {
          "output_type": "stream",
          "name": "stdout",
          "text": [
            "[2 4 6 8]\n"
          ]
        }
      ]
    },
    {
      "cell_type": "code",
      "source": [
        "a1.tolist()"
      ],
      "metadata": {
        "colab": {
          "base_uri": "https://localhost:8080/"
        },
        "id": "JYgG43dt0hNi",
        "outputId": "b23ad201-5290-404f-bebe-2a0d75617634"
      },
      "execution_count": 115,
      "outputs": [
        {
          "output_type": "execute_result",
          "data": {
            "text/plain": [
              "[2, 4, 6, 8]"
            ]
          },
          "metadata": {},
          "execution_count": 115
        }
      ]
    },
    {
      "cell_type": "markdown",
      "source": [
        "**Arrays 2D: Matrizes**"
      ],
      "metadata": {
        "id": "Ggo1VIoN0nNX"
      }
    },
    {
      "cell_type": "markdown",
      "source": [
        "Arrays NumPy de duas dimensões são conhecidos como **matrizes**, como tabelas, com linhas e colunas."
      ],
      "metadata": {
        "id": "aqBj6HHB0qi1"
      }
    },
    {
      "cell_type": "markdown",
      "source": [
        "Criação:"
      ],
      "metadata": {
        "id": "Ys2jSXMo0x1u"
      }
    },
    {
      "cell_type": "code",
      "source": [
        "m1 = np.array([[1,2,3], [4,5,6]]) # vetores como linhas\n",
        "print(m1)"
      ],
      "metadata": {
        "colab": {
          "base_uri": "https://localhost:8080/"
        },
        "id": "5xDteUY50yxl",
        "outputId": "eada4a2f-eb8b-4eeb-fa7a-6ffb90774ac0"
      },
      "execution_count": 116,
      "outputs": [
        {
          "output_type": "stream",
          "name": "stdout",
          "text": [
            "[[1 2 3]\n",
            " [4 5 6]]\n"
          ]
        }
      ]
    },
    {
      "cell_type": "markdown",
      "source": [
        "ManipulaçãO:"
      ],
      "metadata": {
        "id": "Z1gzSFhc0-ps"
      }
    },
    {
      "cell_type": "code",
      "source": [
        "m1[1,2]"
      ],
      "metadata": {
        "colab": {
          "base_uri": "https://localhost:8080/"
        },
        "id": "5Nk6Rm0M0_1i",
        "outputId": "527167d8-f171-4771-b07c-71ff7cf7a860"
      },
      "execution_count": 117,
      "outputs": [
        {
          "output_type": "execute_result",
          "data": {
            "text/plain": [
              "6"
            ]
          },
          "metadata": {},
          "execution_count": 117
        }
      ]
    },
    {
      "cell_type": "code",
      "source": [
        "m1[1,:]"
      ],
      "metadata": {
        "colab": {
          "base_uri": "https://localhost:8080/"
        },
        "id": "Plpd84NH1C-f",
        "outputId": "bd3bda7f-f290-4d33-a7b4-2341ece07c5a"
      },
      "execution_count": 118,
      "outputs": [
        {
          "output_type": "execute_result",
          "data": {
            "text/plain": [
              "array([4, 5, 6])"
            ]
          },
          "metadata": {},
          "execution_count": 118
        }
      ]
    },
    {
      "cell_type": "code",
      "source": [
        "m1[:,1]"
      ],
      "metadata": {
        "colab": {
          "base_uri": "https://localhost:8080/"
        },
        "id": "fqV3mtYV1IF2",
        "outputId": "3031b84b-543c-433b-c273-76157c2a50fe"
      },
      "execution_count": 119,
      "outputs": [
        {
          "output_type": "execute_result",
          "data": {
            "text/plain": [
              "array([2, 5])"
            ]
          },
          "metadata": {},
          "execution_count": 119
        }
      ]
    },
    {
      "cell_type": "markdown",
      "source": [
        "Atributos:"
      ],
      "metadata": {
        "id": "EXVwQGhO1OTx"
      }
    },
    {
      "cell_type": "code",
      "source": [
        "m1.ndim"
      ],
      "metadata": {
        "colab": {
          "base_uri": "https://localhost:8080/"
        },
        "id": "gFypB6Hx1MnN",
        "outputId": "b6ce867e-9872-4df7-d45c-ddbf39662843"
      },
      "execution_count": 120,
      "outputs": [
        {
          "output_type": "execute_result",
          "data": {
            "text/plain": [
              "2"
            ]
          },
          "metadata": {},
          "execution_count": 120
        }
      ]
    },
    {
      "cell_type": "code",
      "source": [
        "m1.shape"
      ],
      "metadata": {
        "colab": {
          "base_uri": "https://localhost:8080/"
        },
        "id": "MThCaMNK1u6K",
        "outputId": "15a4ede2-d310-4614-db28-c3d8a6a6a61c"
      },
      "execution_count": 121,
      "outputs": [
        {
          "output_type": "execute_result",
          "data": {
            "text/plain": [
              "(2, 3)"
            ]
          },
          "metadata": {},
          "execution_count": 121
        }
      ]
    },
    {
      "cell_type": "code",
      "source": [
        "m1.dtype"
      ],
      "metadata": {
        "colab": {
          "base_uri": "https://localhost:8080/"
        },
        "id": "6W_Qy7JL1wx9",
        "outputId": "deb9fedf-ad61-44ba-d139-9eda8f5bf862"
      },
      "execution_count": 122,
      "outputs": [
        {
          "output_type": "execute_result",
          "data": {
            "text/plain": [
              "dtype('int64')"
            ]
          },
          "metadata": {},
          "execution_count": 122
        }
      ]
    },
    {
      "cell_type": "code",
      "source": [
        "m1.sort()\n",
        "print(m1)"
      ],
      "metadata": {
        "colab": {
          "base_uri": "https://localhost:8080/"
        },
        "id": "E6qfw-nC1zV2",
        "outputId": "1f5bf6d3-b0f5-42c8-b866-01be48328c2d"
      },
      "execution_count": 123,
      "outputs": [
        {
          "output_type": "stream",
          "name": "stdout",
          "text": [
            "[[1 2 3]\n",
            " [4 5 6]]\n"
          ]
        }
      ]
    },
    {
      "cell_type": "code",
      "source": [
        "m1.tolist()"
      ],
      "metadata": {
        "colab": {
          "base_uri": "https://localhost:8080/"
        },
        "id": "_X_6nlC112dP",
        "outputId": "11f0eb30-932c-4953-ed4e-f37efab40182"
      },
      "execution_count": 124,
      "outputs": [
        {
          "output_type": "execute_result",
          "data": {
            "text/plain": [
              "[[1, 2, 3], [4, 5, 6]]"
            ]
          },
          "metadata": {},
          "execution_count": 124
        }
      ]
    },
    {
      "cell_type": "markdown",
      "source": [
        "# **Operações com NumPy**"
      ],
      "metadata": {
        "id": "sJq3-nymexZT"
      }
    },
    {
      "cell_type": "code",
      "source": [
        "import numpy as np\n",
        "\n",
        "a1 = np.array([1,2,3])\n",
        "a2 = np.array([3,4,5])"
      ],
      "metadata": {
        "id": "8dCY0scpe2K3"
      },
      "execution_count": 125,
      "outputs": []
    },
    {
      "cell_type": "code",
      "source": [
        "np.pi"
      ],
      "metadata": {
        "colab": {
          "base_uri": "https://localhost:8080/"
        },
        "id": "LGMgHr51fKyQ",
        "outputId": "b945ff96-86a2-47aa-dc6b-b51384157765"
      },
      "execution_count": 126,
      "outputs": [
        {
          "output_type": "execute_result",
          "data": {
            "text/plain": [
              "3.141592653589793"
            ]
          },
          "metadata": {},
          "execution_count": 126
        }
      ]
    },
    {
      "cell_type": "code",
      "source": [
        "np.e"
      ],
      "metadata": {
        "colab": {
          "base_uri": "https://localhost:8080/"
        },
        "id": "54qgfZIQfWrS",
        "outputId": "a624dd7e-53e5-4e9d-a951-1336c075dc85"
      },
      "execution_count": 127,
      "outputs": [
        {
          "output_type": "execute_result",
          "data": {
            "text/plain": [
              "2.718281828459045"
            ]
          },
          "metadata": {},
          "execution_count": 127
        }
      ]
    },
    {
      "cell_type": "code",
      "source": [
        "np.nan, np.NaN, np.NAN"
      ],
      "metadata": {
        "colab": {
          "base_uri": "https://localhost:8080/"
        },
        "id": "U8wnXxv7fZLO",
        "outputId": "31129914-5acd-4e03-c999-d54e931f9330"
      },
      "execution_count": 128,
      "outputs": [
        {
          "output_type": "execute_result",
          "data": {
            "text/plain": [
              "(nan, nan, nan)"
            ]
          },
          "metadata": {},
          "execution_count": 128
        }
      ]
    },
    {
      "cell_type": "code",
      "source": [
        "type(np.inf)"
      ],
      "metadata": {
        "colab": {
          "base_uri": "https://localhost:8080/"
        },
        "id": "Mj9fAkQ_0TRH",
        "outputId": "d98f3641-0671-41b7-8e4c-58c9784ae749"
      },
      "execution_count": 129,
      "outputs": [
        {
          "output_type": "execute_result",
          "data": {
            "text/plain": [
              "float"
            ]
          },
          "metadata": {},
          "execution_count": 129
        }
      ]
    },
    {
      "cell_type": "code",
      "source": [
        "np.inf, np.Inf, np.Infinity"
      ],
      "metadata": {
        "colab": {
          "base_uri": "https://localhost:8080/"
        },
        "id": "MUPKwNXk0Wal",
        "outputId": "ff556577-7762-4d0f-c0d2-00d1d7fd3b5b"
      },
      "execution_count": 130,
      "outputs": [
        {
          "output_type": "execute_result",
          "data": {
            "text/plain": [
              "(inf, inf, inf)"
            ]
          },
          "metadata": {},
          "execution_count": 130
        }
      ]
    },
    {
      "cell_type": "markdown",
      "source": [
        "**Funções elementares**"
      ],
      "metadata": {
        "id": "iVYJoGv_0b8L"
      }
    },
    {
      "cell_type": "markdown",
      "source": [
        "Soma"
      ],
      "metadata": {
        "id": "DSMFZkoD0fF9"
      }
    },
    {
      "cell_type": "code",
      "source": [
        "a3 = a1+a2\n",
        "print(a3)\n",
        "\n",
        "a3 = a1/a2\n",
        "print(a3)"
      ],
      "metadata": {
        "colab": {
          "base_uri": "https://localhost:8080/"
        },
        "id": "23xj7qTA0euN",
        "outputId": "1608faf6-21fe-46d4-e039-ef9f8c1e2f98"
      },
      "execution_count": 131,
      "outputs": [
        {
          "output_type": "stream",
          "name": "stdout",
          "text": [
            "[4 6 8]\n",
            "[0.33333333 0.5        0.6       ]\n"
          ]
        }
      ]
    },
    {
      "cell_type": "markdown",
      "source": [
        "Exponenciação"
      ],
      "metadata": {
        "id": "oIYP_7Os32uw"
      }
    },
    {
      "cell_type": "code",
      "source": [
        "a3 = a1 ** 2\n",
        "print(a3)\n",
        "\n",
        "a3 = np.exp(a1)\n",
        "print(a3)\n",
        "\n",
        "a3 = np.sqrt(a1)\n",
        "print(a3)"
      ],
      "metadata": {
        "colab": {
          "base_uri": "https://localhost:8080/"
        },
        "id": "er6eTh-l0foS",
        "outputId": "57e49f7d-0774-4bf2-ac3a-c5de8ee3e9ca"
      },
      "execution_count": 132,
      "outputs": [
        {
          "output_type": "stream",
          "name": "stdout",
          "text": [
            "[1 4 9]\n",
            "[ 2.71828183  7.3890561  20.08553692]\n",
            "[1.         1.41421356 1.73205081]\n"
          ]
        }
      ]
    },
    {
      "cell_type": "markdown",
      "source": [
        "Logaritmo"
      ],
      "metadata": {
        "id": "_twzlCnj1GDl"
      }
    },
    {
      "cell_type": "code",
      "source": [
        "a3 = np.log(a1)\n",
        "print(a1)"
      ],
      "metadata": {
        "colab": {
          "base_uri": "https://localhost:8080/"
        },
        "id": "oZCBYUGO1HBV",
        "outputId": "e9e08611-15c1-4f69-caa9-d05476ea2bf5"
      },
      "execution_count": 133,
      "outputs": [
        {
          "output_type": "stream",
          "name": "stdout",
          "text": [
            "[1 2 3]\n"
          ]
        }
      ]
    },
    {
      "cell_type": "markdown",
      "source": [
        "Trigonometria"
      ],
      "metadata": {
        "id": "por4MiSl1L2t"
      }
    },
    {
      "cell_type": "code",
      "source": [
        "a3 = np.sin(a1)\n",
        "print(a3)\n",
        "\n",
        "a3 = np.tan(a1)\n",
        "print(a3)"
      ],
      "metadata": {
        "colab": {
          "base_uri": "https://localhost:8080/"
        },
        "id": "qdsp0oiZ1tKZ",
        "outputId": "0806a6e6-c59c-410d-b3de-ae10c9284843"
      },
      "execution_count": 134,
      "outputs": [
        {
          "output_type": "stream",
          "name": "stdout",
          "text": [
            "[0.84147098 0.90929743 0.14112001]\n",
            "[ 1.55740772 -2.18503986 -0.14254654]\n"
          ]
        }
      ]
    },
    {
      "cell_type": "markdown",
      "source": [
        "**Algebra Vetorial**"
      ],
      "metadata": {
        "id": "93J8g2Zq2AQ1"
      }
    },
    {
      "cell_type": "markdown",
      "source": [
        "Produto escalar - soma dos produtos dos elementos dos vetores"
      ],
      "metadata": {
        "id": "TqbCKrtp2Cyn"
      }
    },
    {
      "cell_type": "code",
      "source": [
        "a1 = np.array([1,2,3])\n",
        "a2 = np.array([3,4,5])\n",
        "\n",
        "a3 = np.dot(a1, a2)\n",
        "print(a3)"
      ],
      "metadata": {
        "colab": {
          "base_uri": "https://localhost:8080/"
        },
        "id": "IsoF02zm2CGt",
        "outputId": "8f40046e-3480-46f8-dfbe-060852ffcb23"
      },
      "execution_count": 135,
      "outputs": [
        {
          "output_type": "stream",
          "name": "stdout",
          "text": [
            "26\n"
          ]
        }
      ]
    },
    {
      "cell_type": "markdown",
      "source": [
        "# **Fundamentos de Estatística**\n",
        "---\n",
        "\n"
      ],
      "metadata": {
        "id": "uUorSyKO3ihc"
      }
    },
    {
      "cell_type": "markdown",
      "source": [
        "**Obtendo os dados**"
      ],
      "metadata": {
        "id": "fl8EIHhB3quL"
      }
    },
    {
      "cell_type": "markdown",
      "source": [
        "Vamos utilizar o salário mensal em dólares americanos de jogadores da NBA em 2020."
      ],
      "metadata": {
        "id": "_pgt8GLv3wJu"
      }
    },
    {
      "cell_type": "markdown",
      "source": [
        "Download dos dados"
      ],
      "metadata": {
        "id": "4qvh6yJo4Uq5"
      }
    },
    {
      "cell_type": "code",
      "source": [
        "!wget -q \"https://raw.githubusercontent.com/andre-marcos-perez/ebac-course-utils/main/dataset/wage.csv\" -O wage.csv "
      ],
      "metadata": {
        "id": "Y5khoGW-3wjb"
      },
      "execution_count": 136,
      "outputs": []
    },
    {
      "cell_type": "markdown",
      "source": [
        "Manipulação dos dados"
      ],
      "metadata": {
        "id": "wJ0tug2l4V5R"
      }
    },
    {
      "cell_type": "code",
      "source": [
        "import numpy as np\n",
        "import pandas as pd\n",
        "import seaborn as sns"
      ],
      "metadata": {
        "id": "U09RwekC4Xfa"
      },
      "execution_count": 137,
      "outputs": []
    },
    {
      "cell_type": "code",
      "source": [
        "wage_df = pd.read_csv('wage.csv')\n",
        "wage_df.head()"
      ],
      "metadata": {
        "colab": {
          "base_uri": "https://localhost:8080/",
          "height": 206
        },
        "id": "R1CYY9SR4bGZ",
        "outputId": "fe5e32f9-76c6-4279-ef25-484442d14986"
      },
      "execution_count": 138,
      "outputs": [
        {
          "output_type": "execute_result",
          "data": {
            "text/plain": [
              "      wage\n",
              "0  1750000\n",
              "1   400641\n",
              "2   118071\n",
              "3   811033\n",
              "4   181193"
            ],
            "text/html": [
              "\n",
              "  <div id=\"df-e155e1fe-17cb-4294-ad60-49968981b9df\">\n",
              "    <div class=\"colab-df-container\">\n",
              "      <div>\n",
              "<style scoped>\n",
              "    .dataframe tbody tr th:only-of-type {\n",
              "        vertical-align: middle;\n",
              "    }\n",
              "\n",
              "    .dataframe tbody tr th {\n",
              "        vertical-align: top;\n",
              "    }\n",
              "\n",
              "    .dataframe thead th {\n",
              "        text-align: right;\n",
              "    }\n",
              "</style>\n",
              "<table border=\"1\" class=\"dataframe\">\n",
              "  <thead>\n",
              "    <tr style=\"text-align: right;\">\n",
              "      <th></th>\n",
              "      <th>wage</th>\n",
              "    </tr>\n",
              "  </thead>\n",
              "  <tbody>\n",
              "    <tr>\n",
              "      <th>0</th>\n",
              "      <td>1750000</td>\n",
              "    </tr>\n",
              "    <tr>\n",
              "      <th>1</th>\n",
              "      <td>400641</td>\n",
              "    </tr>\n",
              "    <tr>\n",
              "      <th>2</th>\n",
              "      <td>118071</td>\n",
              "    </tr>\n",
              "    <tr>\n",
              "      <th>3</th>\n",
              "      <td>811033</td>\n",
              "    </tr>\n",
              "    <tr>\n",
              "      <th>4</th>\n",
              "      <td>181193</td>\n",
              "    </tr>\n",
              "  </tbody>\n",
              "</table>\n",
              "</div>\n",
              "      <button class=\"colab-df-convert\" onclick=\"convertToInteractive('df-e155e1fe-17cb-4294-ad60-49968981b9df')\"\n",
              "              title=\"Convert this dataframe to an interactive table.\"\n",
              "              style=\"display:none;\">\n",
              "        \n",
              "  <svg xmlns=\"http://www.w3.org/2000/svg\" height=\"24px\"viewBox=\"0 0 24 24\"\n",
              "       width=\"24px\">\n",
              "    <path d=\"M0 0h24v24H0V0z\" fill=\"none\"/>\n",
              "    <path d=\"M18.56 5.44l.94 2.06.94-2.06 2.06-.94-2.06-.94-.94-2.06-.94 2.06-2.06.94zm-11 1L8.5 8.5l.94-2.06 2.06-.94-2.06-.94L8.5 2.5l-.94 2.06-2.06.94zm10 10l.94 2.06.94-2.06 2.06-.94-2.06-.94-.94-2.06-.94 2.06-2.06.94z\"/><path d=\"M17.41 7.96l-1.37-1.37c-.4-.4-.92-.59-1.43-.59-.52 0-1.04.2-1.43.59L10.3 9.45l-7.72 7.72c-.78.78-.78 2.05 0 2.83L4 21.41c.39.39.9.59 1.41.59.51 0 1.02-.2 1.41-.59l7.78-7.78 2.81-2.81c.8-.78.8-2.07 0-2.86zM5.41 20L4 18.59l7.72-7.72 1.47 1.35L5.41 20z\"/>\n",
              "  </svg>\n",
              "      </button>\n",
              "      \n",
              "  <style>\n",
              "    .colab-df-container {\n",
              "      display:flex;\n",
              "      flex-wrap:wrap;\n",
              "      gap: 12px;\n",
              "    }\n",
              "\n",
              "    .colab-df-convert {\n",
              "      background-color: #E8F0FE;\n",
              "      border: none;\n",
              "      border-radius: 50%;\n",
              "      cursor: pointer;\n",
              "      display: none;\n",
              "      fill: #1967D2;\n",
              "      height: 32px;\n",
              "      padding: 0 0 0 0;\n",
              "      width: 32px;\n",
              "    }\n",
              "\n",
              "    .colab-df-convert:hover {\n",
              "      background-color: #E2EBFA;\n",
              "      box-shadow: 0px 1px 2px rgba(60, 64, 67, 0.3), 0px 1px 3px 1px rgba(60, 64, 67, 0.15);\n",
              "      fill: #174EA6;\n",
              "    }\n",
              "\n",
              "    [theme=dark] .colab-df-convert {\n",
              "      background-color: #3B4455;\n",
              "      fill: #D2E3FC;\n",
              "    }\n",
              "\n",
              "    [theme=dark] .colab-df-convert:hover {\n",
              "      background-color: #434B5C;\n",
              "      box-shadow: 0px 1px 3px 1px rgba(0, 0, 0, 0.15);\n",
              "      filter: drop-shadow(0px 1px 2px rgba(0, 0, 0, 0.3));\n",
              "      fill: #FFFFFF;\n",
              "    }\n",
              "  </style>\n",
              "\n",
              "      <script>\n",
              "        const buttonEl =\n",
              "          document.querySelector('#df-e155e1fe-17cb-4294-ad60-49968981b9df button.colab-df-convert');\n",
              "        buttonEl.style.display =\n",
              "          google.colab.kernel.accessAllowed ? 'block' : 'none';\n",
              "\n",
              "        async function convertToInteractive(key) {\n",
              "          const element = document.querySelector('#df-e155e1fe-17cb-4294-ad60-49968981b9df');\n",
              "          const dataTable =\n",
              "            await google.colab.kernel.invokeFunction('convertToInteractive',\n",
              "                                                     [key], {});\n",
              "          if (!dataTable) return;\n",
              "\n",
              "          const docLinkHtml = 'Like what you see? Visit the ' +\n",
              "            '<a target=\"_blank\" href=https://colab.research.google.com/notebooks/data_table.ipynb>data table notebook</a>'\n",
              "            + ' to learn more about interactive tables.';\n",
              "          element.innerHTML = '';\n",
              "          dataTable['output_type'] = 'display_data';\n",
              "          await google.colab.output.renderOutput(dataTable, element);\n",
              "          const docLink = document.createElement('div');\n",
              "          docLink.innerHTML = docLinkHtml;\n",
              "          element.appendChild(docLink);\n",
              "        }\n",
              "      </script>\n",
              "    </div>\n",
              "  </div>\n",
              "  "
            ]
          },
          "metadata": {},
          "execution_count": 138
        }
      ]
    },
    {
      "cell_type": "code",
      "source": [
        "wage_array = np.array(wage_df['wage'].astype('int').to_list())\n",
        "print(wage_array[0:5])"
      ],
      "metadata": {
        "colab": {
          "base_uri": "https://localhost:8080/"
        },
        "id": "wUImkfk343ev",
        "outputId": "725c8367-4ea0-4151-f77d-3b837bdab8d2"
      },
      "execution_count": 139,
      "outputs": [
        {
          "output_type": "stream",
          "name": "stdout",
          "text": [
            "[1750000  400641  118071  811033  181193]\n"
          ]
        }
      ]
    },
    {
      "cell_type": "code",
      "source": [
        "with sns.axes_style('whitegrid'):\n",
        "  grafico = sns.histplot(data = wage_array, binwidth=100*1000)\n",
        "  grafico.set(title='Distribuição de salario mensal da NBA em 2020', xlabel='Salario mensal (USD)', ylabel='Contagem')"
      ],
      "metadata": {
        "colab": {
          "base_uri": "https://localhost:8080/",
          "height": 295
        },
        "id": "N3PzmmjY43IX",
        "outputId": "fe61c44e-bc27-4216-b6fa-e53be453d08c"
      },
      "execution_count": 140,
      "outputs": [
        {
          "output_type": "display_data",
          "data": {
            "text/plain": [
              "<Figure size 432x288 with 1 Axes>"
            ],
            "image/png": "[encoded data removed]"
          },
          "metadata": {}
        }
      ]
    },
    {
      "cell_type": "markdown",
      "source": [
        "**Média e Variância**"
      ],
      "metadata": {
        "id": "hYdbbErE5tY9"
      }
    },
    {
      "cell_type": "markdown",
      "source": [
        "População e amostra\n",
        "- População: subconjunto composto por TODOS os elementos de um conjunto\n",
        "- Amostra: Fração dos elementos de um conjunto"
      ],
      "metadata": {
        "id": "GdpUQ76t5x1-"
      }
    },
    {
      "cell_type": "code",
      "source": [
        "len(wage_array)"
      ],
      "metadata": {
        "colab": {
          "base_uri": "https://localhost:8080/"
        },
        "id": "oZ8v8d_k6sDm",
        "outputId": "6680c4ce-ebec-4ddd-98bc-5ea7b614ac66"
      },
      "execution_count": 141,
      "outputs": [
        {
          "output_type": "execute_result",
          "data": {
            "text/plain": [
              "214"
            ]
          },
          "metadata": {},
          "execution_count": 141
        }
      ]
    },
    {
      "cell_type": "markdown",
      "source": [
        "Média"
      ],
      "metadata": {
        "id": "LudhVpxD6wKX"
      }
    },
    {
      "cell_type": "code",
      "source": [
        "np.mean(wage_array)"
      ],
      "metadata": {
        "colab": {
          "base_uri": "https://localhost:8080/"
        },
        "id": "hjCxHaBz6xpO",
        "outputId": "ccfa1a6d-8f01-4376-d278-e8c385c66836"
      },
      "execution_count": 142,
      "outputs": [
        {
          "output_type": "execute_result",
          "data": {
            "text/plain": [
              "762359.6074766355"
            ]
          },
          "metadata": {},
          "execution_count": 142
        }
      ]
    },
    {
      "cell_type": "markdown",
      "source": [
        "Variancia - métrica de dispersão"
      ],
      "metadata": {
        "id": "k4ZfTdTUU_1Z"
      }
    },
    {
      "cell_type": "code",
      "source": [
        "np.var(wage_array)"
      ],
      "metadata": {
        "colab": {
          "base_uri": "https://localhost:8080/"
        },
        "id": "WMx1Qk5663AX",
        "outputId": "f39f6ad3-400e-4da6-c5be-db99ed15868d"
      },
      "execution_count": 143,
      "outputs": [
        {
          "output_type": "execute_result",
          "data": {
            "text/plain": [
              "748444533449.9955"
            ]
          },
          "metadata": {},
          "execution_count": 143
        }
      ]
    },
    {
      "cell_type": "markdown",
      "source": [
        "Desvio padrão"
      ],
      "metadata": {
        "id": "dy-lS1QM7vVt"
      }
    },
    {
      "cell_type": "code",
      "source": [
        "np.std(wage_array)"
      ],
      "metadata": {
        "colab": {
          "base_uri": "https://localhost:8080/"
        },
        "id": "kKOHvi-H7wtd",
        "outputId": "934919db-1a6a-439e-a6c5-1b918c9a7d83"
      },
      "execution_count": 144,
      "outputs": [
        {
          "output_type": "execute_result",
          "data": {
            "text/plain": [
              "865126.8886411955"
            ]
          },
          "metadata": {},
          "execution_count": 144
        }
      ]
    },
    {
      "cell_type": "markdown",
      "source": [
        "**Ordem e Posição**"
      ],
      "metadata": {
        "id": "VlXqlH0X8I8s"
      }
    },
    {
      "cell_type": "markdown",
      "source": [
        "Medição Posicional - Ordenação dos elementos"
      ],
      "metadata": {
        "id": "SZgRXD388ObS"
      }
    },
    {
      "cell_type": "markdown",
      "source": [
        "Mediana - Valor do elemento central de um conjunto ordenado"
      ],
      "metadata": {
        "id": "4wGO0xwW8bJP"
      }
    },
    {
      "cell_type": "code",
      "source": [
        "np.median(wage_array)"
      ],
      "metadata": {
        "colab": {
          "base_uri": "https://localhost:8080/"
        },
        "id": "D3xuqjd48gcI",
        "outputId": "e17ae079-3b03-4459-ce0d-b7049ba86ba7"
      },
      "execution_count": 145,
      "outputs": [
        {
          "output_type": "execute_result",
          "data": {
            "text/plain": [
              "339000.0"
            ]
          },
          "metadata": {},
          "execution_count": 145
        }
      ]
    },
    {
      "cell_type": "markdown",
      "source": [
        "Quartil - Valor de corte de uma divisão dos elementos de um conjunto. Dividem os elementos em respectivamente 25%, 50% e 75%. Passam a idéia da distribuição dos valores dos elementos do conjunto."
      ],
      "metadata": {
        "id": "sx0girWc8jBL"
      }
    },
    {
      "cell_type": "code",
      "source": [
        "q1 = np.quantile(wage_array, 0.25)\n",
        "print(q1)\n",
        "\n",
        "q2 = np.quantile(wage_array, 0.5)\n",
        "print(q2)\n",
        "\n",
        "q3 = np.quantile(wage_array, 0.75)\n",
        "print(q3)\n",
        "\n",
        "iqr = q3-q1\n",
        "print(iqr)"
      ],
      "metadata": {
        "colab": {
          "base_uri": "https://localhost:8080/"
        },
        "id": "v5HkanND8xET",
        "outputId": "304c59b6-4ee1-4811-b1b5-0f8a7e1b3a8b"
      },
      "execution_count": 146,
      "outputs": [
        {
          "output_type": "stream",
          "name": "stdout",
          "text": [
            "165079.0\n",
            "339000.0\n",
            "1007752.0\n",
            "842673.0\n"
          ]
        }
      ]
    },
    {
      "cell_type": "markdown",
      "source": [
        "**Boxplot**"
      ],
      "metadata": {
        "id": "ndFAoxWT-v4m"
      }
    },
    {
      "cell_type": "markdown",
      "source": [
        "Grafico de distribuição que utiliza as métricas posicionais **medianas** e **quartis**"
      ],
      "metadata": {
        "id": "HcU9jw1E-ywN"
      }
    },
    {
      "cell_type": "markdown",
      "source": [
        "- **BOX** - Apresenta a maior concetração de dados. Definido como o intervalo entre o primeiro e terceiro quartil\n",
        "\n",
        "- **WHISKERS** - Apresenta a dispersão entre os dados\n",
        "- **OUTLIERS** - Pontos fora da curva "
      ],
      "metadata": {
        "id": "hsV4WyfgAGUG"
      }
    },
    {
      "cell_type": "markdown",
      "source": [
        "- Média = 762.359,61\n",
        "- Desvio Padrão = 865.126,89\n",
        "- Mediana = 339.000,00\n",
        "- 1o Quartil = 165.079,00\n",
        "- 3o Quartil = 1.007.752,00"
      ],
      "metadata": {
        "id": "qPThZAMiBbiW"
      }
    },
    {
      "cell_type": "markdown",
      "source": [
        "Vamos gerar um grafico boxplot com o pacote SEABORN:"
      ],
      "metadata": {
        "id": "0JXM_GPDSD6r"
      }
    },
    {
      "cell_type": "code",
      "source": [
        "with sns.axes_style('whitegrid'):\n",
        "\n",
        "  grafico = sns.boxplot(x=wage_array)\n",
        "  grafico.set(title='Distribuição de Salário Mensal da NBA em 202', xlabel='Salário Mensal (USD)')"
      ],
      "metadata": {
        "colab": {
          "base_uri": "https://localhost:8080/",
          "height": 295
        },
        "id": "ypqhf6giSBzU",
        "outputId": "4c1f83b7-d60e-4eab-fd99-b75f844cc89a"
      },
      "execution_count": 147,
      "outputs": [
        {
          "output_type": "display_data",
          "data": {
            "text/plain": [
              "<Figure size 432x288 with 1 Axes>"
            ],
            "image/png": "[encoded data removed]"
          },
          "metadata": {}
        }
      ]
    },
    {
      "cell_type": "code",
      "source": [
        "with sns.axes_style('whitegrid'):\n",
        "\n",
        "  grafico = sns.histplot(data=wage_array, binwidth=100*1000)\n",
        "  grafico.set(title='Distribuição de Salario Mensal da NBA em 2020', xlabel='Salario Mensal (USD)', ylabel='Contagem')"
      ],
      "metadata": {
        "colab": {
          "base_uri": "https://localhost:8080/",
          "height": 295
        },
        "id": "3rlR-neaSYJ6",
        "outputId": "bf2409e0-bcf7-4761-91e0-74d774bf52b0"
      },
      "execution_count": 148,
      "outputs": [
        {
          "output_type": "display_data",
          "data": {
            "text/plain": [
              "<Figure size 432x288 with 1 Axes>"
            ],
            "image/png": "[encoded data removed]"
          },
          "metadata": {}
        }
      ]
    },
    {
      "cell_type": "markdown",
      "source": [
        "**Correlação**"
      ],
      "metadata": {
        "id": "8uNah04VTkMv"
      }
    },
    {
      "cell_type": "markdown",
      "source": [
        "Mede a dependencia estatística entre o conjunto de dados. Por exemplo, o peso e a altura de uma pessoa, pode-se traçar correlações entre as duas variaveis."
      ],
      "metadata": {
        "id": "0k1XVC-mTmEL"
      }
    },
    {
      "cell_type": "markdown",
      "source": [
        "Coeficiente de correlação de perason:\n",
        "- Rxy < 0 Enquanto X cresce, Y decresce\n",
        "- Rxy = 0 Não há relação entre X e Y\n",
        "- Rxy > 0 Enquanto X cresce, Y cresce"
      ],
      "metadata": {
        "id": "NNAjipAwUTWQ"
      }
    },
    {
      "cell_type": "code",
      "source": [
        "%%writefile nba.csv\n",
        "height;weight;wage\n",
        "2.01;86.2;17150000\n",
        "1.93;106.1;898310\n",
        "2.11;120.2;9881598\n",
        "1.88;85.7;15643750\n",
        "1.88;84.8;2875000\n",
        "2.11;106.1;2376840\n",
        "1.98;86.6;2625717\n",
        "2.08;104.3;37199000\n",
        "2.03;117.9;28942830\n",
        "1.83;81.6;522738"
      ],
      "metadata": {
        "colab": {
          "base_uri": "https://localhost:8080/"
        },
        "id": "bYbkZ6_KT_Ct",
        "outputId": "c6633703-d480-40eb-8f00-034c73eb77e0"
      },
      "execution_count": 150,
      "outputs": [
        {
          "output_type": "stream",
          "name": "stdout",
          "text": [
            "Writing nba.csv\n"
          ]
        }
      ]
    },
    {
      "cell_type": "code",
      "source": [
        "df = pd.read_csv('nba.csv', sep=';')"
      ],
      "metadata": {
        "id": "2FWI-9zYVXqI"
      },
      "execution_count": 151,
      "outputs": []
    },
    {
      "cell_type": "code",
      "source": [
        "df.head()"
      ],
      "metadata": {
        "colab": {
          "base_uri": "https://localhost:8080/",
          "height": 206
        },
        "id": "MI-zKZv0Verw",
        "outputId": "d62d1a2e-2859-4e6d-c987-4f658a93f1fd"
      },
      "execution_count": 152,
      "outputs": [
        {
          "output_type": "execute_result",
          "data": {
            "text/plain": [
              "   height  weight      wage\n",
              "0    2.01    86.2  17150000\n",
              "1    1.93   106.1    898310\n",
              "2    2.11   120.2   9881598\n",
              "3    1.88    85.7  15643750\n",
              "4    1.88    84.8   2875000"
            ],
            "text/html": [
              "\n",
              "  <div id=\"df-2ecd1324-2716-4698-aba4-1701d8edcfba\">\n",
              "    <div class=\"colab-df-container\">\n",
              "      <div>\n",
              "<style scoped>\n",
              "    .dataframe tbody tr th:only-of-type {\n",
              "        vertical-align: middle;\n",
              "    }\n",
              "\n",
              "    .dataframe tbody tr th {\n",
              "        vertical-align: top;\n",
              "    }\n",
              "\n",
              "    .dataframe thead th {\n",
              "        text-align: right;\n",
              "    }\n",
              "</style>\n",
              "<table border=\"1\" class=\"dataframe\">\n",
              "  <thead>\n",
              "    <tr style=\"text-align: right;\">\n",
              "      <th></th>\n",
              "      <th>height</th>\n",
              "      <th>weight</th>\n",
              "      <th>wage</th>\n",
              "    </tr>\n",
              "  </thead>\n",
              "  <tbody>\n",
              "    <tr>\n",
              "      <th>0</th>\n",
              "      <td>2.01</td>\n",
              "      <td>86.2</td>\n",
              "      <td>17150000</td>\n",
              "    </tr>\n",
              "    <tr>\n",
              "      <th>1</th>\n",
              "      <td>1.93</td>\n",
              "      <td>106.1</td>\n",
              "      <td>898310</td>\n",
              "    </tr>\n",
              "    <tr>\n",
              "      <th>2</th>\n",
              "      <td>2.11</td>\n",
              "      <td>120.2</td>\n",
              "      <td>9881598</td>\n",
              "    </tr>\n",
              "    <tr>\n",
              "      <th>3</th>\n",
              "      <td>1.88</td>\n",
              "      <td>85.7</td>\n",
              "      <td>15643750</td>\n",
              "    </tr>\n",
              "    <tr>\n",
              "      <th>4</th>\n",
              "      <td>1.88</td>\n",
              "      <td>84.8</td>\n",
              "      <td>2875000</td>\n",
              "    </tr>\n",
              "  </tbody>\n",
              "</table>\n",
              "</div>\n",
              "      <button class=\"colab-df-convert\" onclick=\"convertToInteractive('df-2ecd1324-2716-4698-aba4-1701d8edcfba')\"\n",
              "              title=\"Convert this dataframe to an interactive table.\"\n",
              "              style=\"display:none;\">\n",
              "        \n",
              "  <svg xmlns=\"http://www.w3.org/2000/svg\" height=\"24px\"viewBox=\"0 0 24 24\"\n",
              "       width=\"24px\">\n",
              "    <path d=\"M0 0h24v24H0V0z\" fill=\"none\"/>\n",
              "    <path d=\"M18.56 5.44l.94 2.06.94-2.06 2.06-.94-2.06-.94-.94-2.06-.94 2.06-2.06.94zm-11 1L8.5 8.5l.94-2.06 2.06-.94-2.06-.94L8.5 2.5l-.94 2.06-2.06.94zm10 10l.94 2.06.94-2.06 2.06-.94-2.06-.94-.94-2.06-.94 2.06-2.06.94z\"/><path d=\"M17.41 7.96l-1.37-1.37c-.4-.4-.92-.59-1.43-.59-.52 0-1.04.2-1.43.59L10.3 9.45l-7.72 7.72c-.78.78-.78 2.05 0 2.83L4 21.41c.39.39.9.59 1.41.59.51 0 1.02-.2 1.41-.59l7.78-7.78 2.81-2.81c.8-.78.8-2.07 0-2.86zM5.41 20L4 18.59l7.72-7.72 1.47 1.35L5.41 20z\"/>\n",
              "  </svg>\n",
              "      </button>\n",
              "      \n",
              "  <style>\n",
              "    .colab-df-container {\n",
              "      display:flex;\n",
              "      flex-wrap:wrap;\n",
              "      gap: 12px;\n",
              "    }\n",
              "\n",
              "    .colab-df-convert {\n",
              "      background-color: #E8F0FE;\n",
              "      border: none;\n",
              "      border-radius: 50%;\n",
              "      cursor: pointer;\n",
              "      display: none;\n",
              "      fill: #1967D2;\n",
              "      height: 32px;\n",
              "      padding: 0 0 0 0;\n",
              "      width: 32px;\n",
              "    }\n",
              "\n",
              "    .colab-df-convert:hover {\n",
              "      background-color: #E2EBFA;\n",
              "      box-shadow: 0px 1px 2px rgba(60, 64, 67, 0.3), 0px 1px 3px 1px rgba(60, 64, 67, 0.15);\n",
              "      fill: #174EA6;\n",
              "    }\n",
              "\n",
              "    [theme=dark] .colab-df-convert {\n",
              "      background-color: #3B4455;\n",
              "      fill: #D2E3FC;\n",
              "    }\n",
              "\n",
              "    [theme=dark] .colab-df-convert:hover {\n",
              "      background-color: #434B5C;\n",
              "      box-shadow: 0px 1px 3px 1px rgba(0, 0, 0, 0.15);\n",
              "      filter: drop-shadow(0px 1px 2px rgba(0, 0, 0, 0.3));\n",
              "      fill: #FFFFFF;\n",
              "    }\n",
              "  </style>\n",
              "\n",
              "      <script>\n",
              "        const buttonEl =\n",
              "          document.querySelector('#df-2ecd1324-2716-4698-aba4-1701d8edcfba button.colab-df-convert');\n",
              "        buttonEl.style.display =\n",
              "          google.colab.kernel.accessAllowed ? 'block' : 'none';\n",
              "\n",
              "        async function convertToInteractive(key) {\n",
              "          const element = document.querySelector('#df-2ecd1324-2716-4698-aba4-1701d8edcfba');\n",
              "          const dataTable =\n",
              "            await google.colab.kernel.invokeFunction('convertToInteractive',\n",
              "                                                     [key], {});\n",
              "          if (!dataTable) return;\n",
              "\n",
              "          const docLinkHtml = 'Like what you see? Visit the ' +\n",
              "            '<a target=\"_blank\" href=https://colab.research.google.com/notebooks/data_table.ipynb>data table notebook</a>'\n",
              "            + ' to learn more about interactive tables.';\n",
              "          element.innerHTML = '';\n",
              "          dataTable['output_type'] = 'display_data';\n",
              "          await google.colab.output.renderOutput(dataTable, element);\n",
              "          const docLink = document.createElement('div');\n",
              "          docLink.innerHTML = docLinkHtml;\n",
              "          element.appendChild(docLink);\n",
              "        }\n",
              "      </script>\n",
              "    </div>\n",
              "  </div>\n",
              "  "
            ]
          },
          "metadata": {},
          "execution_count": 152
        }
      ]
    },
    {
      "cell_type": "code",
      "source": [
        "height_array = np.array(df['height'].to_list())\n",
        "weight_array = np.array(df['weight'].to_list())\n",
        "wage_array = np.array(df['wage'].to_list())"
      ],
      "metadata": {
        "id": "vMJ8h7v2VgwL"
      },
      "execution_count": 153,
      "outputs": []
    },
    {
      "cell_type": "code",
      "source": [
        "weight_array"
      ],
      "metadata": {
        "colab": {
          "base_uri": "https://localhost:8080/"
        },
        "id": "GjNMrCY0Vugz",
        "outputId": "8ef76ad0-0f93-4dca-c021-0988490e9e61"
      },
      "execution_count": 154,
      "outputs": [
        {
          "output_type": "execute_result",
          "data": {
            "text/plain": [
              "array([ 86.2, 106.1, 120.2,  85.7,  84.8, 106.1,  86.6, 104.3, 117.9,\n",
              "        81.6])"
            ]
          },
          "metadata": {},
          "execution_count": 154
        }
      ]
    },
    {
      "cell_type": "markdown",
      "source": [
        "Peso e Altura"
      ],
      "metadata": {
        "id": "gC1lcLj2VxjB"
      }
    },
    {
      "cell_type": "code",
      "source": [
        "np.corrcoef(weight_array, height_array)"
      ],
      "metadata": {
        "colab": {
          "base_uri": "https://localhost:8080/"
        },
        "id": "oXnKEUyNVy7b",
        "outputId": "f9b75d2b-38d4-4b7e-be55-4a5add5974bd"
      },
      "execution_count": 157,
      "outputs": [
        {
          "output_type": "execute_result",
          "data": {
            "text/plain": [
              "array([[1.        , 0.73782414],\n",
              "       [0.73782414, 1.        ]])"
            ]
          },
          "metadata": {},
          "execution_count": 157
        }
      ]
    },
    {
      "cell_type": "code",
      "source": [
        "with sns.axes_style('whitegrid'):\n",
        "\n",
        "  grafico = sns.scatterplot(x=weight_array, y=height_array)\n",
        "  grafico.set(title='Distribuição de Peso e Altura dos Jogadores da NBA em 20202', xlabel='Peso (kg)', ylabel='Altura (m)')"
      ],
      "metadata": {
        "colab": {
          "base_uri": "https://localhost:8080/",
          "height": 295
        },
        "id": "MWi04lP_WCGI",
        "outputId": "7370f6c5-6cd7-4205-e0f1-28fc91faee33"
      },
      "execution_count": 158,
      "outputs": [
        {
          "output_type": "display_data",
          "data": {
            "text/plain": [
              "<Figure size 432x288 with 1 Axes>"
            ],
            "image/png": "[encoded data removed]"
          },
          "metadata": {}
        }
      ]
    },
    {
      "cell_type": "markdown",
      "source": [
        "Peso e salário"
      ],
      "metadata": {
        "id": "iu2820i8WYn2"
      }
    },
    {
      "cell_type": "code",
      "source": [
        "np.corrcoef(weight_array, wage_array)"
      ],
      "metadata": {
        "colab": {
          "base_uri": "https://localhost:8080/"
        },
        "id": "65qzm8DJWZ88",
        "outputId": "76abe5af-6edd-44fc-bda2-96f84dfcb3d8"
      },
      "execution_count": 159,
      "outputs": [
        {
          "output_type": "execute_result",
          "data": {
            "text/plain": [
              "array([[1.        , 0.34965527],\n",
              "       [0.34965527, 1.        ]])"
            ]
          },
          "metadata": {},
          "execution_count": 159
        }
      ]
    },
    {
      "cell_type": "markdown",
      "source": [
        "Vamos fazer um grafico entre Peso x Salario - algo que não vai ter uma relação para termos um exemplo"
      ],
      "metadata": {
        "id": "QQ8_otjNW4ab"
      }
    },
    {
      "cell_type": "code",
      "source": [
        "with sns.axes_style('whitegrid'):\n",
        "\n",
        "  grafico = sns.scatterplot(x=weight_array, y=wage_array)\n",
        "  grafico.set(title='Distribuição de Peso e Salário dos Jogadores da NBA em 2020', xlabel='Peso (kg)', ylabel='Salário (USD)')"
      ],
      "metadata": {
        "colab": {
          "base_uri": "https://localhost:8080/",
          "height": 295
        },
        "id": "whWX2Qg_WiKM",
        "outputId": "07b52ef4-58e4-4269-c460-4f0ab1f22835"
      },
      "execution_count": 160,
      "outputs": [
        {
          "output_type": "display_data",
          "data": {
            "text/plain": [
              "<Figure size 432x288 with 1 Axes>"
            ],
            "image/png": "[encoded data removed]"
          },
          "metadata": {}
        }
      ]
    },
    {
      "cell_type": "markdown",
      "source": [
        "Altura e Salario"
      ],
      "metadata": {
        "id": "b-V4Y0gbW9v7"
      }
    },
    {
      "cell_type": "code",
      "source": [
        "np.corrcoef(height_array, wage_array)"
      ],
      "metadata": {
        "colab": {
          "base_uri": "https://localhost:8080/"
        },
        "id": "I7odFr6XXPpI",
        "outputId": "3375bef0-803e-404d-939a-509fbd6c8e81"
      },
      "execution_count": 162,
      "outputs": [
        {
          "output_type": "execute_result",
          "data": {
            "text/plain": [
              "array([[1.        , 0.41296351],\n",
              "       [0.41296351, 1.        ]])"
            ]
          },
          "metadata": {},
          "execution_count": 162
        }
      ]
    },
    {
      "cell_type": "code",
      "source": [
        "with sns.axes_style('whitegrid'):\n",
        "\n",
        "  grafico = sns.scatterplot(x=height_array, y=wage_array)\n",
        "  grafico.set(title='Distribuição de Altura e Salário dos Jogadores da NBA em 2020', xlabel='Altura (m)', ylabel='Salário (USD)')"
      ],
      "metadata": {
        "colab": {
          "base_uri": "https://localhost:8080/",
          "height": 295
        },
        "id": "7Jt85HcPW-0d",
        "outputId": "493131b8-808a-42ac-8e78-5129927e2f3f"
      },
      "execution_count": 161,
      "outputs": [
        {
          "output_type": "display_data",
          "data": {
            "text/plain": [
              "<Figure size 432x288 with 1 Axes>"
            ],
            "image/png": "[encoded data removed]"
          },
          "metadata": {}
        }
      ]
    },
    {
      "cell_type": "markdown",
      "source": [
        "# **Exercícios - Estatistica**\n",
        "---\n",
        "\n"
      ],
      "metadata": {
        "id": "BVlKiGHeXld8"
      }
    },
    {
      "cell_type": "markdown",
      "source": [
        "# 1. Tráfego de São Paulo\n",
        "Neste exercício, vamos continuar a analisar os dados de mobilidade urbana da cidade de\n",
        "São Paulo. A base de dados está neste link e é uma copia do dado original, presente\n",
        "neste link. A base de dados contem a quantidade de acidentes ocorridos na cidade entre\n",
        "14/12/09 e 18/12/09, das 07:00h ás 20:00h, agregados em intervalos de 30 minutos."
      ],
      "metadata": {
        "id": "XMz5VmBEXuY4"
      }
    },
    {
      "cell_type": "code",
      "source": [
        "!wget -q \"https://raw.githubusercontent.com/andre-marcos-perez/ebac-course-utils/develop/dataset/traffic.csv\""
      ],
      "metadata": {
        "id": "kzVqg2OaX9sw"
      },
      "execution_count": 169,
      "outputs": []
    },
    {
      "cell_type": "code",
      "source": [
        "import pandas as pd\n",
        "df = pd.read_csv('traffic.csv', sep=';')\n",
        "df.head()"
      ],
      "metadata": {
        "id": "TPbHi0fJYA6A",
        "outputId": "5b4cfc93-f7dc-40fb-c739-40be52af55cc",
        "colab": {
          "base_uri": "https://localhost:8080/",
          "height": 270
        }
      },
      "execution_count": 170,
      "outputs": [
        {
          "output_type": "execute_result",
          "data": {
            "text/plain": [
              "   hour  bus_stoped  broken_truck  vehicle_excess  accident_victim  \\\n",
              "0     1           0             0               0                0   \n",
              "1     2           0             0               0                0   \n",
              "2     3           0             0               0                0   \n",
              "3     4           0             0               0                0   \n",
              "4     5           0             0               0                0   \n",
              "\n",
              "   running_over  fire_vehicles  occurrence_freight  \\\n",
              "0             0              0                   0   \n",
              "1             0              0                   0   \n",
              "2             0              0                   0   \n",
              "3             0              0                   0   \n",
              "4             0              0                   0   \n",
              "\n",
              "   incident__dangerous_freight  lack_electricity  fire  flooding  \\\n",
              "0                            0                 0     0         0   \n",
              "1                            0                 0     0         0   \n",
              "2                            0                 0     0         0   \n",
              "3                            0                 0     0         0   \n",
              "4                            0                 0     0         0   \n",
              "\n",
              "   manifestations  defect_trolleybuses  tree_road  semaphore_off  \\\n",
              "0               0                    0          0              0   \n",
              "1               0                    0          0              0   \n",
              "2               0                    0          0              0   \n",
              "3               0                    0          0              0   \n",
              "4               0                    0          0              0   \n",
              "\n",
              "   intermittent_emaphore slowness_traffic_%  \n",
              "0                      0                4,1  \n",
              "1                      0                6,6  \n",
              "2                      0                8,7  \n",
              "3                      0                9,2  \n",
              "4                      0               11,1  "
            ],
            "text/html": [
              "\n",
              "  <div id=\"df-bf33b230-25c4-448b-9d1c-c5d560bf90f6\">\n",
              "    <div class=\"colab-df-container\">\n",
              "      <div>\n",
              "<style scoped>\n",
              "    .dataframe tbody tr th:only-of-type {\n",
              "        vertical-align: middle;\n",
              "    }\n",
              "\n",
              "    .dataframe tbody tr th {\n",
              "        vertical-align: top;\n",
              "    }\n",
              "\n",
              "    .dataframe thead th {\n",
              "        text-align: right;\n",
              "    }\n",
              "</style>\n",
              "<table border=\"1\" class=\"dataframe\">\n",
              "  <thead>\n",
              "    <tr style=\"text-align: right;\">\n",
              "      <th></th>\n",
              "      <th>hour</th>\n",
              "      <th>bus_stoped</th>\n",
              "      <th>broken_truck</th>\n",
              "      <th>vehicle_excess</th>\n",
              "      <th>accident_victim</th>\n",
              "      <th>running_over</th>\n",
              "      <th>fire_vehicles</th>\n",
              "      <th>occurrence_freight</th>\n",
              "      <th>incident__dangerous_freight</th>\n",
              "      <th>lack_electricity</th>\n",
              "      <th>fire</th>\n",
              "      <th>flooding</th>\n",
              "      <th>manifestations</th>\n",
              "      <th>defect_trolleybuses</th>\n",
              "      <th>tree_road</th>\n",
              "      <th>semaphore_off</th>\n",
              "      <th>intermittent_emaphore</th>\n",
              "      <th>slowness_traffic_%</th>\n",
              "    </tr>\n",
              "  </thead>\n",
              "  <tbody>\n",
              "    <tr>\n",
              "      <th>0</th>\n",
              "      <td>1</td>\n",
              "      <td>0</td>\n",
              "      <td>0</td>\n",
              "      <td>0</td>\n",
              "      <td>0</td>\n",
              "      <td>0</td>\n",
              "      <td>0</td>\n",
              "      <td>0</td>\n",
              "      <td>0</td>\n",
              "      <td>0</td>\n",
              "      <td>0</td>\n",
              "      <td>0</td>\n",
              "      <td>0</td>\n",
              "      <td>0</td>\n",
              "      <td>0</td>\n",
              "      <td>0</td>\n",
              "      <td>0</td>\n",
              "      <td>4,1</td>\n",
              "    </tr>\n",
              "    <tr>\n",
              "      <th>1</th>\n",
              "      <td>2</td>\n",
              "      <td>0</td>\n",
              "      <td>0</td>\n",
              "      <td>0</td>\n",
              "      <td>0</td>\n",
              "      <td>0</td>\n",
              "      <td>0</td>\n",
              "      <td>0</td>\n",
              "      <td>0</td>\n",
              "      <td>0</td>\n",
              "      <td>0</td>\n",
              "      <td>0</td>\n",
              "      <td>0</td>\n",
              "      <td>0</td>\n",
              "      <td>0</td>\n",
              "      <td>0</td>\n",
              "      <td>0</td>\n",
              "      <td>6,6</td>\n",
              "    </tr>\n",
              "    <tr>\n",
              "      <th>2</th>\n",
              "      <td>3</td>\n",
              "      <td>0</td>\n",
              "      <td>0</td>\n",
              "      <td>0</td>\n",
              "      <td>0</td>\n",
              "      <td>0</td>\n",
              "      <td>0</td>\n",
              "      <td>0</td>\n",
              "      <td>0</td>\n",
              "      <td>0</td>\n",
              "      <td>0</td>\n",
              "      <td>0</td>\n",
              "      <td>0</td>\n",
              "      <td>0</td>\n",
              "      <td>0</td>\n",
              "      <td>0</td>\n",
              "      <td>0</td>\n",
              "      <td>8,7</td>\n",
              "    </tr>\n",
              "    <tr>\n",
              "      <th>3</th>\n",
              "      <td>4</td>\n",
              "      <td>0</td>\n",
              "      <td>0</td>\n",
              "      <td>0</td>\n",
              "      <td>0</td>\n",
              "      <td>0</td>\n",
              "      <td>0</td>\n",
              "      <td>0</td>\n",
              "      <td>0</td>\n",
              "      <td>0</td>\n",
              "      <td>0</td>\n",
              "      <td>0</td>\n",
              "      <td>0</td>\n",
              "      <td>0</td>\n",
              "      <td>0</td>\n",
              "      <td>0</td>\n",
              "      <td>0</td>\n",
              "      <td>9,2</td>\n",
              "    </tr>\n",
              "    <tr>\n",
              "      <th>4</th>\n",
              "      <td>5</td>\n",
              "      <td>0</td>\n",
              "      <td>0</td>\n",
              "      <td>0</td>\n",
              "      <td>0</td>\n",
              "      <td>0</td>\n",
              "      <td>0</td>\n",
              "      <td>0</td>\n",
              "      <td>0</td>\n",
              "      <td>0</td>\n",
              "      <td>0</td>\n",
              "      <td>0</td>\n",
              "      <td>0</td>\n",
              "      <td>0</td>\n",
              "      <td>0</td>\n",
              "      <td>0</td>\n",
              "      <td>0</td>\n",
              "      <td>11,1</td>\n",
              "    </tr>\n",
              "  </tbody>\n",
              "</table>\n",
              "</div>\n",
              "      <button class=\"colab-df-convert\" onclick=\"convertToInteractive('df-bf33b230-25c4-448b-9d1c-c5d560bf90f6')\"\n",
              "              title=\"Convert this dataframe to an interactive table.\"\n",
              "              style=\"display:none;\">\n",
              "        \n",
              "  <svg xmlns=\"http://www.w3.org/2000/svg\" height=\"24px\"viewBox=\"0 0 24 24\"\n",
              "       width=\"24px\">\n",
              "    <path d=\"M0 0h24v24H0V0z\" fill=\"none\"/>\n",
              "    <path d=\"M18.56 5.44l.94 2.06.94-2.06 2.06-.94-2.06-.94-.94-2.06-.94 2.06-2.06.94zm-11 1L8.5 8.5l.94-2.06 2.06-.94-2.06-.94L8.5 2.5l-.94 2.06-2.06.94zm10 10l.94 2.06.94-2.06 2.06-.94-2.06-.94-.94-2.06-.94 2.06-2.06.94z\"/><path d=\"M17.41 7.96l-1.37-1.37c-.4-.4-.92-.59-1.43-.59-.52 0-1.04.2-1.43.59L10.3 9.45l-7.72 7.72c-.78.78-.78 2.05 0 2.83L4 21.41c.39.39.9.59 1.41.59.51 0 1.02-.2 1.41-.59l7.78-7.78 2.81-2.81c.8-.78.8-2.07 0-2.86zM5.41 20L4 18.59l7.72-7.72 1.47 1.35L5.41 20z\"/>\n",
              "  </svg>\n",
              "      </button>\n",
              "      \n",
              "  <style>\n",
              "    .colab-df-container {\n",
              "      display:flex;\n",
              "      flex-wrap:wrap;\n",
              "      gap: 12px;\n",
              "    }\n",
              "\n",
              "    .colab-df-convert {\n",
              "      background-color: #E8F0FE;\n",
              "      border: none;\n",
              "      border-radius: 50%;\n",
              "      cursor: pointer;\n",
              "      display: none;\n",
              "      fill: #1967D2;\n",
              "      height: 32px;\n",
              "      padding: 0 0 0 0;\n",
              "      width: 32px;\n",
              "    }\n",
              "\n",
              "    .colab-df-convert:hover {\n",
              "      background-color: #E2EBFA;\n",
              "      box-shadow: 0px 1px 2px rgba(60, 64, 67, 0.3), 0px 1px 3px 1px rgba(60, 64, 67, 0.15);\n",
              "      fill: #174EA6;\n",
              "    }\n",
              "\n",
              "    [theme=dark] .colab-df-convert {\n",
              "      background-color: #3B4455;\n",
              "      fill: #D2E3FC;\n",
              "    }\n",
              "\n",
              "    [theme=dark] .colab-df-convert:hover {\n",
              "      background-color: #434B5C;\n",
              "      box-shadow: 0px 1px 3px 1px rgba(0, 0, 0, 0.15);\n",
              "      filter: drop-shadow(0px 1px 2px rgba(0, 0, 0, 0.3));\n",
              "      fill: #FFFFFF;\n",
              "    }\n",
              "  </style>\n",
              "\n",
              "      <script>\n",
              "        const buttonEl =\n",
              "          document.querySelector('#df-bf33b230-25c4-448b-9d1c-c5d560bf90f6 button.colab-df-convert');\n",
              "        buttonEl.style.display =\n",
              "          google.colab.kernel.accessAllowed ? 'block' : 'none';\n",
              "\n",
              "        async function convertToInteractive(key) {\n",
              "          const element = document.querySelector('#df-bf33b230-25c4-448b-9d1c-c5d560bf90f6');\n",
              "          const dataTable =\n",
              "            await google.colab.kernel.invokeFunction('convertToInteractive',\n",
              "                                                     [key], {});\n",
              "          if (!dataTable) return;\n",
              "\n",
              "          const docLinkHtml = 'Like what you see? Visit the ' +\n",
              "            '<a target=\"_blank\" href=https://colab.research.google.com/notebooks/data_table.ipynb>data table notebook</a>'\n",
              "            + ' to learn more about interactive tables.';\n",
              "          element.innerHTML = '';\n",
              "          dataTable['output_type'] = 'display_data';\n",
              "          await google.colab.output.renderOutput(dataTable, element);\n",
              "          const docLink = document.createElement('div');\n",
              "          docLink.innerHTML = docLinkHtml;\n",
              "          element.appendChild(docLink);\n",
              "        }\n",
              "      </script>\n",
              "    </div>\n",
              "  </div>\n",
              "  "
            ]
          },
          "metadata": {},
          "execution_count": 170
        }
      ]
    },
    {
      "cell_type": "markdown",
      "source": [
        "Exemplo: (para relembrar)\n",
        "- O código abaixo extrai a 13ª linha do arquivo que representa a 14ª meia hora do dia\n",
        "14/12/09, contadas a partir das 07:00h, ou seja, todos os incidentes ocorridos na cidade\n",
        "no dia em questão entre as 13:30h e 14:00h. Vemos, por exemplo, que dois ônibus e dois\n",
        "caminhões ficaram paradados nas ruas da cidade, atrapalhando o tráfego."
      ],
      "metadata": {
        "id": "8pFxL05kYpUr"
      }
    },
    {
      "cell_type": "code",
      "source": [
        "df.iloc[[13]]"
      ],
      "metadata": {
        "id": "ZTufMbiVYsDI",
        "outputId": "183b3d0d-31b5-4ece-eccb-cf89d8bd00c7",
        "colab": {
          "base_uri": "https://localhost:8080/",
          "height": 145
        }
      },
      "execution_count": 171,
      "outputs": [
        {
          "output_type": "execute_result",
          "data": {
            "text/plain": [
              "    hour  bus_stoped  broken_truck  vehicle_excess  accident_victim  \\\n",
              "13    14           2             2               0                1   \n",
              "\n",
              "    running_over  fire_vehicles  occurrence_freight  \\\n",
              "13             0              0                   0   \n",
              "\n",
              "    incident__dangerous_freight  lack_electricity  fire  flooding  \\\n",
              "13                            0                 0     0         0   \n",
              "\n",
              "    manifestations  defect_trolleybuses  tree_road  semaphore_off  \\\n",
              "13               0                    0          0              0   \n",
              "\n",
              "    intermittent_emaphore slowness_traffic_%  \n",
              "13                      0                4,9  "
            ],
            "text/html": [
              "\n",
              "  <div id=\"df-3183e353-b7aa-4b62-a978-b24b9a526704\">\n",
              "    <div class=\"colab-df-container\">\n",
              "      <div>\n",
              "<style scoped>\n",
              "    .dataframe tbody tr th:only-of-type {\n",
              "        vertical-align: middle;\n",
              "    }\n",
              "\n",
              "    .dataframe tbody tr th {\n",
              "        vertical-align: top;\n",
              "    }\n",
              "\n",
              "    .dataframe thead th {\n",
              "        text-align: right;\n",
              "    }\n",
              "</style>\n",
              "<table border=\"1\" class=\"dataframe\">\n",
              "  <thead>\n",
              "    <tr style=\"text-align: right;\">\n",
              "      <th></th>\n",
              "      <th>hour</th>\n",
              "      <th>bus_stoped</th>\n",
              "      <th>broken_truck</th>\n",
              "      <th>vehicle_excess</th>\n",
              "      <th>accident_victim</th>\n",
              "      <th>running_over</th>\n",
              "      <th>fire_vehicles</th>\n",
              "      <th>occurrence_freight</th>\n",
              "      <th>incident__dangerous_freight</th>\n",
              "      <th>lack_electricity</th>\n",
              "      <th>fire</th>\n",
              "      <th>flooding</th>\n",
              "      <th>manifestations</th>\n",
              "      <th>defect_trolleybuses</th>\n",
              "      <th>tree_road</th>\n",
              "      <th>semaphore_off</th>\n",
              "      <th>intermittent_emaphore</th>\n",
              "      <th>slowness_traffic_%</th>\n",
              "    </tr>\n",
              "  </thead>\n",
              "  <tbody>\n",
              "    <tr>\n",
              "      <th>13</th>\n",
              "      <td>14</td>\n",
              "      <td>2</td>\n",
              "      <td>2</td>\n",
              "      <td>0</td>\n",
              "      <td>1</td>\n",
              "      <td>0</td>\n",
              "      <td>0</td>\n",
              "      <td>0</td>\n",
              "      <td>0</td>\n",
              "      <td>0</td>\n",
              "      <td>0</td>\n",
              "      <td>0</td>\n",
              "      <td>0</td>\n",
              "      <td>0</td>\n",
              "      <td>0</td>\n",
              "      <td>0</td>\n",
              "      <td>0</td>\n",
              "      <td>4,9</td>\n",
              "    </tr>\n",
              "  </tbody>\n",
              "</table>\n",
              "</div>\n",
              "      <button class=\"colab-df-convert\" onclick=\"convertToInteractive('df-3183e353-b7aa-4b62-a978-b24b9a526704')\"\n",
              "              title=\"Convert this dataframe to an interactive table.\"\n",
              "              style=\"display:none;\">\n",
              "        \n",
              "  <svg xmlns=\"http://www.w3.org/2000/svg\" height=\"24px\"viewBox=\"0 0 24 24\"\n",
              "       width=\"24px\">\n",
              "    <path d=\"M0 0h24v24H0V0z\" fill=\"none\"/>\n",
              "    <path d=\"M18.56 5.44l.94 2.06.94-2.06 2.06-.94-2.06-.94-.94-2.06-.94 2.06-2.06.94zm-11 1L8.5 8.5l.94-2.06 2.06-.94-2.06-.94L8.5 2.5l-.94 2.06-2.06.94zm10 10l.94 2.06.94-2.06 2.06-.94-2.06-.94-.94-2.06-.94 2.06-2.06.94z\"/><path d=\"M17.41 7.96l-1.37-1.37c-.4-.4-.92-.59-1.43-.59-.52 0-1.04.2-1.43.59L10.3 9.45l-7.72 7.72c-.78.78-.78 2.05 0 2.83L4 21.41c.39.39.9.59 1.41.59.51 0 1.02-.2 1.41-.59l7.78-7.78 2.81-2.81c.8-.78.8-2.07 0-2.86zM5.41 20L4 18.59l7.72-7.72 1.47 1.35L5.41 20z\"/>\n",
              "  </svg>\n",
              "      </button>\n",
              "      \n",
              "  <style>\n",
              "    .colab-df-container {\n",
              "      display:flex;\n",
              "      flex-wrap:wrap;\n",
              "      gap: 12px;\n",
              "    }\n",
              "\n",
              "    .colab-df-convert {\n",
              "      background-color: #E8F0FE;\n",
              "      border: none;\n",
              "      border-radius: 50%;\n",
              "      cursor: pointer;\n",
              "      display: none;\n",
              "      fill: #1967D2;\n",
              "      height: 32px;\n",
              "      padding: 0 0 0 0;\n",
              "      width: 32px;\n",
              "    }\n",
              "\n",
              "    .colab-df-convert:hover {\n",
              "      background-color: #E2EBFA;\n",
              "      box-shadow: 0px 1px 2px rgba(60, 64, 67, 0.3), 0px 1px 3px 1px rgba(60, 64, 67, 0.15);\n",
              "      fill: #174EA6;\n",
              "    }\n",
              "\n",
              "    [theme=dark] .colab-df-convert {\n",
              "      background-color: #3B4455;\n",
              "      fill: #D2E3FC;\n",
              "    }\n",
              "\n",
              "    [theme=dark] .colab-df-convert:hover {\n",
              "      background-color: #434B5C;\n",
              "      box-shadow: 0px 1px 3px 1px rgba(0, 0, 0, 0.15);\n",
              "      filter: drop-shadow(0px 1px 2px rgba(0, 0, 0, 0.3));\n",
              "      fill: #FFFFFF;\n",
              "    }\n",
              "  </style>\n",
              "\n",
              "      <script>\n",
              "        const buttonEl =\n",
              "          document.querySelector('#df-3183e353-b7aa-4b62-a978-b24b9a526704 button.colab-df-convert');\n",
              "        buttonEl.style.display =\n",
              "          google.colab.kernel.accessAllowed ? 'block' : 'none';\n",
              "\n",
              "        async function convertToInteractive(key) {\n",
              "          const element = document.querySelector('#df-3183e353-b7aa-4b62-a978-b24b9a526704');\n",
              "          const dataTable =\n",
              "            await google.colab.kernel.invokeFunction('convertToInteractive',\n",
              "                                                     [key], {});\n",
              "          if (!dataTable) return;\n",
              "\n",
              "          const docLinkHtml = 'Like what you see? Visit the ' +\n",
              "            '<a target=\"_blank\" href=https://colab.research.google.com/notebooks/data_table.ipynb>data table notebook</a>'\n",
              "            + ' to learn more about interactive tables.';\n",
              "          element.innerHTML = '';\n",
              "          dataTable['output_type'] = 'display_data';\n",
              "          await google.colab.output.renderOutput(dataTable, element);\n",
              "          const docLink = document.createElement('div');\n",
              "          docLink.innerHTML = docLinkHtml;\n",
              "          element.appendChild(docLink);\n",
              "        }\n",
              "      </script>\n",
              "    </div>\n",
              "  </div>\n",
              "  "
            ]
          },
          "metadata": {},
          "execution_count": 171
        }
      ]
    }
  ]
}