{
  "nbformat": 4,
  "nbformat_minor": 0,
  "metadata": {
    "colab": {
      "name": "Python Resumo.ipynb",
      "provenance": [],
      "authorship_tag": "ABX9TyOGqrmZrKWGde/HHv8pQZvj",
      "include_colab_link": true
    },
    "kernelspec": {
      "name": "python3",
      "display_name": "Python 3"
    },
    "language_info": {
      "name": "python"
    }
  },
  "cells": [
    {
      "cell_type": "markdown",
      "metadata": {
        "id": "view-in-github",
        "colab_type": "text"
      },
      "source": [
        "<a href=\"https://colab.research.google.com/github/vinigm/Estudos/blob/main/Python_Resumo.ipynb\" target=\"_parent\"><img src=\"https://colab.research.google.com/assets/colab-badge.svg\" alt=\"Open In Colab\"/></a>"
      ]
    },
    {
      "cell_type": "markdown",
      "source": [
        "# **RESUMO DE PYTHON**"
      ],
      "metadata": {
        "id": "CsEPhEPC0XSe"
      }
    },
    {
      "cell_type": "markdown",
      "source": [
        "Variaveis"
      ],
      "metadata": {
        "id": "8X3BCzUH0aDy"
      }
    },
    {
      "cell_type": "markdown",
      "source": [
        "Laços"
      ],
      "metadata": {
        "id": "pYyRnljd0fEe"
      }
    },
    {
      "cell_type": "markdown",
      "source": [
        "Def"
      ],
      "metadata": {
        "id": "wSgDBZrx0eSv"
      }
    },
    {
      "cell_type": "markdown",
      "source": [
        "Def"
      ],
      "metadata": {
        "id": "iPGlMiga0bGe"
      }
    },
    {
      "cell_type": "markdown",
      "source": [
        "Pandas"
      ],
      "metadata": {
        "id": "V9NWEjT60b44"
      }
    },
    {
      "cell_type": "markdown",
      "source": [
        "NumPy"
      ],
      "metadata": {
        "id": "Prn6iMrw0cvb"
      }
    },
    {
      "cell_type": "code",
      "execution_count": null,
      "metadata": {
        "id": "Np8qyHbChlyT"
      },
      "outputs": [],
      "source": [
        ""
      ]
    }
  ]
}