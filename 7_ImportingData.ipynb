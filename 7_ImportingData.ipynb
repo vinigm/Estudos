{
  "nbformat": 4,
  "nbformat_minor": 0,
  "metadata": {
    "colab": {
      "name": "7_ImportingData",
      "provenance": [],
      "authorship_tag": "ABX9TyNPuDgxabBiUAeu3JUB7VpI",
      "include_colab_link": true
    },
    "kernelspec": {
      "name": "python3",
      "display_name": "Python 3"
    },
    "language_info": {
      "name": "python"
    }
  },
  "cells": [
    {
      "cell_type": "markdown",
      "metadata": {
        "id": "view-in-github",
        "colab_type": "text"
      },
      "source": [
        "<a href=\"https://colab.research.google.com/github/vinigm/Estudos/blob/main/7_ImportingData.ipynb\" target=\"_parent\"><img src=\"https://colab.research.google.com/assets/colab-badge.svg\" alt=\"Open In Colab\"/></a>"
      ]
    },
    {
      "cell_type": "markdown",
      "source": [
        "# Importing Data\n",
        "\n",
        "Conteúdo de estudo da aula 'importing data' do curso de Data Science do DataCamp"
      ],
      "metadata": {
        "id": "uZ5a5L9-chBM"
      }
    },
    {
      "cell_type": "markdown",
      "source": [
        "## Aula 1"
      ],
      "metadata": {
        "id": "_NUqPaN-crWr"
      }
    },
    {
      "cell_type": "markdown",
      "source": [
        "### Aula 1.1\n",
        "\n"
      ],
      "metadata": {
        "id": "RN9TjAoMcuiQ"
      }
    },
    {
      "cell_type": "code",
      "execution_count": null,
      "metadata": {
        "id": "vCmSPZKNceYB"
      },
      "outputs": [],
      "source": [
        "filename = 'FILENAME.TXT'\n",
        "file = open(filename, mode = 'r') # r é para modo 'somente leitura'\n",
        "text = file.read()\n",
        "file.close()"
      ]
    },
    {
      "cell_type": "markdown",
      "source": [
        "### Aula 1.2\n",
        "\n",
        "**FLAT FILES** - Text files containing records, like tables\n",
        "\n"
      ],
      "metadata": {
        "id": "pKjCqbQ_fMiV"
      }
    },
    {
      "cell_type": "code",
      "source": [
        "Beautiful is better than ugly.\n",
        "Explicit is better than implicit.\n",
        "Simple is better than complex.\n",
        "Complex is better than complicated.\n",
        "Flat is better than nested.\n",
        "Sparse is better than dense.\n",
        "Readability counts.\n",
        "Special cases aren't special enough to break the rules.\n",
        "Although practicality beats purity.\n",
        "Errors should never pass silently.\n",
        "Unless explicitly silenced.\n",
        "In the face of ambiguity, refuse the temptation to guess.\n",
        "There should be one—and preferably only one—obvious way to do it.\n",
        "Although that way may not be obvious at first unless you're Dutch.\n",
        "Now is better than never.\n",
        "Although never is often better than *right* now.\n",
        "If the implementation is hard to explain, it's a bad idea.\n",
        "If the implementation is easy to explain, it may be a good idea.\n",
        "Namespaces are one honking great idea—let's do more of those!"
      ],
      "metadata": {
        "id": "4pKxfvRHhcp5"
      },
      "execution_count": null,
      "outputs": []
    },
    {
      "cell_type": "markdown",
      "source": [
        "### Aula 1.3 - Importing Flat files using numpy\n"
      ],
      "metadata": {
        "id": "SekfLvDphd8W"
      }
    },
    {
      "cell_type": "code",
      "source": [
        "import numpy as np\n",
        "filename = 'FILENAME.txt'\n",
        "data = np.loadtxt(filename, delimiter=',', skiprows=1) #podemos usar , usecols=[0,2] para selecionar a coluna 1, 2 e 3 apenas\n",
        "print(data)"
      ],
      "metadata": {
        "id": "N3kQu2FPh03y"
      },
      "execution_count": null,
      "outputs": []
    },
    {
      "cell_type": "markdown",
      "source": [
        "### Aula 1.4 - Importing flat files using pandas"
      ],
      "metadata": {
        "id": "0d54CJRehikS"
      }
    }
  ]
}