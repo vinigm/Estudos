{
  "nbformat": 4,
  "nbformat_minor": 0,
  "metadata": {
    "colab": {
      "name": "Estudos2.ipynb",
      "provenance": [],
      "authorship_tag": "ABX9TyOiU1Y1pnpQ7TH+r4y/Ei04",
      "include_colab_link": true
    },
    "kernelspec": {
      "name": "python3",
      "display_name": "Python 3"
    },
    "language_info": {
      "name": "python"
    }
  },
  "cells": [
    {
      "cell_type": "markdown",
      "metadata": {
        "id": "view-in-github",
        "colab_type": "text"
      },
      "source": [
        "<a href=\"https://colab.research.google.com/github/vinigm/Estudos/blob/main/2_ComandosUteis.ipynb\" target=\"_parent\"><img src=\"https://colab.research.google.com/assets/colab-badge.svg\" alt=\"Open In Colab\"/></a>"
      ]
    },
    {
      "cell_type": "markdown",
      "source": [
        "# **Python - Comandos Úteis**\n",
        "---\n",
        "\n",
        "Comandos úteis durante as fases de exploração e limpeza de dados.\n"
      ],
      "metadata": {
        "id": "mLfeQ57psZVk"
      }
    },
    {
      "cell_type": "markdown",
      "source": [
        "**Começar importando todas as bibliotecas necessárias**"
      ],
      "metadata": {
        "id": "VZ4RHqxxhW1K"
      }
    },
    {
      "cell_type": "code",
      "source": [
        "import pandas as pd\n",
        "import matplotlib.pyplot as plt\n",
        "import seaborn as sns"
      ],
      "metadata": {
        "id": "X-VSm22BhsX8"
      },
      "execution_count": null,
      "outputs": []
    },
    {
      "cell_type": "markdown",
      "source": [
        "**Verificar informações úteis do nosso dataframe**"
      ],
      "metadata": {
        "id": "YobK-j3xiJBf"
      }
    },
    {
      "cell_type": "code",
      "source": [
        "df.head()        # Verificamos a estrutura do nosso dataframe com as 5 primeiras linhas\n",
        "df.info          # Verificamos se temos dados faltantes\n",
        "df.shape()       # Verificamos as (linhas, colunas) do dataframe\n",
        "df.describe()    # Nos trás um resumo estatístico das colunas"
      ],
      "metadata": {
        "id": "HFXdPkm6hyvm"
      },
      "execution_count": null,
      "outputs": []
    },
    {
      "cell_type": "markdown",
      "source": [
        "**Inserindo uma coluna no dataframe**"
      ],
      "metadata": {
        "id": "AmC3rT_OkRlj"
      }
    },
    {
      "cell_type": "code",
      "source": [
        "df['nova_coluna'] = (dados que vão entrar nova coluna e serão inseridos no dataframe)"
      ],
      "metadata": {
        "id": "Mo8CPRBykUtz"
      },
      "execution_count": null,
      "outputs": []
    },
    {
      "cell_type": "markdown",
      "source": [
        "**Comandos uteis para criação de gráficos com MATPLOTLIB**"
      ],
      "metadata": {
        "id": "Bp1F6wSmk9ok"
      }
    },
    {
      "cell_type": "code",
      "source": [
        "plt.scatter(data['Store_Area'],      # Variavel x\n",
        "            data['ticketmedio'],     # Variavel y\n",
        "            alpha=0.1)               # Transparencia\n",
        "\n",
        "\n",
        "plt.title('TITULO')                  # Titulo do gráfico\n",
        "\n",
        "plt.xlabel('TITULO DO EIXO X')       # Titulo do Eixo X\n",
        "plt.ylabel('TITULO DO EIXO Y')       # Titulo do Eixo Y\n",
        "\n",
        "plt.xlim(Xmin , Xmax)                # Setar o intervalo de X\n",
        "plt.ylim(Ymin , Ymax)                # Setar o intervalo de Y"
      ],
      "metadata": {
        "id": "cPOgS1NLlKHY"
      },
      "execution_count": null,
      "outputs": []
    }
  ]
}