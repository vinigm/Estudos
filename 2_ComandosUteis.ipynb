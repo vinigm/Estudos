{
  "nbformat": 4,
  "nbformat_minor": 0,
  "metadata": {
    "colab": {
      "name": "Estudos2.ipynb",
      "provenance": [],
      "authorship_tag": "ABX9TyMzkVHXIXY3r59MYvEEjWde",
      "include_colab_link": true
    },
    "kernelspec": {
      "name": "python3",
      "display_name": "Python 3"
    },
    "language_info": {
      "name": "python"
    }
  },
  "cells": [
    {
      "cell_type": "markdown",
      "metadata": {
        "id": "view-in-github",
        "colab_type": "text"
      },
      "source": [
        "<a href=\"https://colab.research.google.com/github/vinigm/Estudos/blob/main/2_ComandosUteis.ipynb\" target=\"_parent\"><img src=\"https://colab.research.google.com/assets/colab-badge.svg\" alt=\"Open In Colab\"/></a>"
      ]
    },
    {
      "cell_type": "markdown",
      "source": [
        "# **Python - Comandos Úteis**\n",
        "---\n",
        "\n",
        "Comandos e códigos úteis durante as fases de exploração e limpeza de dados.\n"
      ],
      "metadata": {
        "id": "mLfeQ57psZVk"
      }
    },
    {
      "cell_type": "markdown",
      "source": [
        "**Começar importando todas as bibliotecas necessárias**"
      ],
      "metadata": {
        "id": "VZ4RHqxxhW1K"
      }
    },
    {
      "cell_type": "code",
      "source": [
        "import pandas as pd\n",
        "import matplotlib.pyplot as plt\n",
        "import seaborn as sns"
      ],
      "metadata": {
        "id": "X-VSm22BhsX8"
      },
      "execution_count": null,
      "outputs": []
    },
    {
      "cell_type": "markdown",
      "source": [
        "**Verificar informações úteis do nosso dataframe**"
      ],
      "metadata": {
        "id": "YobK-j3xiJBf"
      }
    },
    {
      "cell_type": "code",
      "source": [
        "df.head()        # Verificamos a estrutura do nosso dataframe com as 5 primeiras linhas\n",
        "df.info          # Verificamos se temos dados faltantes\n",
        "df.shape()       # Verificamos as (linhas, colunas) do dataframe\n",
        "df.describe()    # Nos trás um resumo estatístico das colunas"
      ],
      "metadata": {
        "id": "HFXdPkm6hyvm"
      },
      "execution_count": null,
      "outputs": []
    },
    {
      "cell_type": "markdown",
      "source": [
        "**Inserindo uma coluna no dataframe**"
      ],
      "metadata": {
        "id": "AmC3rT_OkRlj"
      }
    },
    {
      "cell_type": "code",
      "source": [
        "df['nova_coluna'] = (dados que vão entrar nova coluna e serão inseridos no dataframe)"
      ],
      "metadata": {
        "id": "Mo8CPRBykUtz"
      },
      "execution_count": null,
      "outputs": []
    },
    {
      "cell_type": "markdown",
      "source": [
        "**MATPLOTLIB - Comandos uteis para criação de gráficos**"
      ],
      "metadata": {
        "id": "Bp1F6wSmk9ok"
      }
    },
    {
      "cell_type": "code",
      "source": [
        "plt.scatter(data['Store_Area'],      # Variavel x\n",
        "            data['ticketmedio'],     # Variavel y\n",
        "            alpha=0.1)               # Transparencia\n",
        "\n",
        "\n",
        "plt.title('TITULO')                  # Titulo do gráfico\n",
        "\n",
        "plt.xlabel('TITULO DO EIXO X')       # Titulo do Eixo X\n",
        "plt.ylabel('TITULO DO EIXO Y')       # Titulo do Eixo Y\n",
        "\n",
        "plt.xlim(Xmin , Xmax)                # Setar o intervalo de X\n",
        "plt.ylim(Ymin , Ymax)                # Setar o intervalo de Y"
      ],
      "metadata": {
        "id": "cPOgS1NLlKHY"
      },
      "execution_count": null,
      "outputs": []
    },
    {
      "cell_type": "markdown",
      "source": [
        "**SEABORN**"
      ],
      "metadata": {
        "id": "3miY2DvL-ZsA"
      }
    },
    {
      "cell_type": "code",
      "source": [
        "sns.stripplot(data=df, x='____', y='____', jitter=True)\n",
        "sns.swarmplot(data=df, x='____', y='____', hue='_____')\n",
        "sns.boxplot(data=df, x='____', y='____')\n",
        "sns.violinplot(data=df, x='____', y='____', palette='husl')\n",
        "sns.boxenplot(data=df, x='____', y='____', palette='husl')\n",
        "sns.countplot(data=df, x='____', y='____', hue='_____')\n",
        "sns.pointplot(data=df, x='____', y='____', capsize=.1)\n",
        "sns.barplot(data=df, x='____', y='____', hue='_____')\n",
        "\n",
        "# Regression Plots\n",
        "\n",
        "sns.regplot(data=df, x='____', y='____', x_estimator=np.mean, order=2) #Order 2 é polinomial\n",
        "sns.residplot(data=df, x='____', y='____')\n",
        "\n",
        "# Matrix Plots\n",
        "\n",
        "pd_crosstab = pd.crosstab(df[\"Group\"], df[\"YEAR\"])\n",
        "sns.heatmap(pd_crosstab)\n",
        "\n",
        "# FacetGrid\n",
        "\n",
        "g2 = sns.FacetGrid(df, row=\"Degree_Type\", row_order=['Graduate', 'Bachelors', 'Associates', 'Certificate'])\n",
        "g2.map(sns.pointplot, 'SAT_AVG_ALL')\n",
        "\n",
        "sns.catplot(data=df, x='Tuition', kind='box', row='Degree_Type')\n",
        "sns.catplot(data=df, x='SAT_AVG_ALL', kind='point', row='Degree_Type', row_order=['Graduate', 'Bachelors', 'Associates', 'Certificate'])\n",
        "\n",
        "g = sns.FacetGrid(df, col=\"Degree_Type\", col_order=degree_ord)\n",
        "g.map(plt.scatter, 'UG', 'PCTPELL')\n",
        "\n",
        "sns.lmplot(data=df, x='UG', y='PCTPELL', col=\"Degree_Type\", col_order=degree_ord)\n",
        "sns.lmplot(data=df, x='SAT_AVG_ALL', y='Tuition', col=\"Ownership\", rows='Degree_Type', row_order=['Graduate', 'Bachelors'], hue='WOMENONLY', col_order=inst_ord)\n",
        "\n",
        "# PairGrid\n",
        "\n",
        "g = sns.PairGrid(df, vars=[\"fatal_collisions\", \"premiums\"])\n",
        "g2 = g.map(sns.scatterplot)\n",
        "\n",
        "g = sns.PairGrid(df, vars=[\"fatal_collisions\", \"premiums\"])\n",
        "g2 = g.map_diag(sns.histplot)\n",
        "g3 = g2.map_offdiag(sns.scatterplot)\n",
        "\n",
        "sns.pairplot(data=df, x_vars=[\"fatal_collisions_speeding\", \"fatal_collisions_alc\"], y_vars=['premiums', 'insurance_losses'], kind='scatter',hue='Region', palette='husl')\n",
        "\n",
        "# JointGrid, JointPlot\n",
        "\n"
      ],
      "metadata": {
        "id": "sXiIri0X-bDa"
      },
      "execution_count": null,
      "outputs": []
    },
    {
      "cell_type": "markdown",
      "source": [
        "**Value Counts**"
      ],
      "metadata": {
        "id": "i9C7grngodHD"
      }
    },
    {
      "cell_type": "code",
      "source": [
        ""
      ],
      "metadata": {
        "id": "liixpb2Poc1N"
      },
      "execution_count": null,
      "outputs": []
    },
    {
      "cell_type": "markdown",
      "source": [
        "**Sorting values**\n"
      ],
      "metadata": {
        "id": "LX_QKviziv3g"
      }
    },
    {
      "cell_type": "code",
      "source": [
        "df.sort_values('coluna')                                          # Lista de forma ascendente (padrão é asc=True) o DF pela coluna 'coluna'\n",
        "df.sort_values(by=['Type', 'Bills'], ascending=[True, False])     # Lista de forma múltipla pelo \"type\" de forma \"maior para o menor\" e em caso de string, alfabética, e pelo \"bills\", do \"menor para o maior\"\n",
        "df.sort_values(by = 'date').tail(10)                              # Lista de forma ascendente as datas e pega as ultimas 10 do df"
      ],
      "metadata": {
        "id": "RfBUqswHi7bv"
      },
      "execution_count": null,
      "outputs": []
    },
    {
      "cell_type": "markdown",
      "source": [
        "**Selecionando valores únicos**\n",
        "\n"
      ],
      "metadata": {
        "id": "nj6VzV4onTw_"
      }
    },
    {
      "cell_type": "code",
      "source": [
        "In [1]: s = pd.Series([1, 2, 3, 1, 1, 4])   # Criando uma lista\n",
        "\n",
        "In [2]: s.unique()                          # Comando para acessar os valores únicos dessa lista através do .unique()\n",
        "Out[2]: array([1, 2, 3, 4])                 # Output do comando\n",
        "\n",
        "In [3]: set(s)                              # Acessando valores unicos através do comando set()\n",
        "Out[3]: {1, 2, 3, 4}                        # Output do comando"
      ],
      "metadata": {
        "id": "RxsQp6-0noUC"
      },
      "execution_count": null,
      "outputs": []
    },
    {
      "cell_type": "markdown",
      "source": [
        "**Achando um valor específico em uma coluna**"
      ],
      "metadata": {
        "id": "4Gj983ibr7Ux"
      }
    },
    {
      "cell_type": "code",
      "source": [
        "valor_especifico = df[df['COLUNA'] == 'VALOR']         # Esse código vai salvar em \"valor_especifico\" o \"VALOR\" da \"COLUNA\""
      ],
      "metadata": {
        "id": "uAOKftM9r9kv"
      },
      "execution_count": null,
      "outputs": []
    },
    {
      "cell_type": "markdown",
      "source": [
        "**Listando \"n\" linhas para uma coluna específica**"
      ],
      "metadata": {
        "id": "wlFwwPB9tCFe"
      }
    },
    {
      "cell_type": "code",
      "source": [
        "df.nlargest(4, 'coluna')       # Retorna os 4 maiores da 'coluna'"
      ],
      "metadata": {
        "id": "zE52HcsjtCY9"
      },
      "execution_count": null,
      "outputs": []
    },
    {
      "cell_type": "markdown",
      "source": [
        "**List Comprehension**"
      ],
      "metadata": {
        "id": "GRIoxpKq-fhk"
      }
    },
    {
      "cell_type": "code",
      "source": [
        "[output_expression for iterator in iterable] "
      ],
      "metadata": {
        "id": "jIKVBQxL-hX1"
      },
      "execution_count": null,
      "outputs": []
    },
    {
      "cell_type": "markdown",
      "source": [
        "**Código para limpar caracteres de uma ou mais colunas**"
      ],
      "metadata": {
        "id": "kJB2kSgnHiU_"
      }
    },
    {
      "cell_type": "code",
      "source": [
        "\n",
        "chars_to_remove = ['+',',','$']                                          # List of characters to remove\n",
        "cols_to_clean = ['Installs', 'Price']                                    # List of column names to clean\n",
        "\n",
        "for col in cols_to_clean:                                                # Loop for each column in cols_to_clean\n",
        "    for char in chars_to_remove:                                         # Loop for each char in chars_to_remove\n",
        "        apps[col] = apps[col].apply(lambda x: x.replace(char, ''))       # Replace the character with an empty string"
      ],
      "metadata": {
        "id": "lUhWk3uUHqLt"
      },
      "execution_count": null,
      "outputs": []
    }
  ]
}