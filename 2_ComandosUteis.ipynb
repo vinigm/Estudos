{
  "nbformat": 4,
  "nbformat_minor": 0,
  "metadata": {
    "colab": {
      "name": "Estudos2.ipynb",
      "provenance": [],
      "authorship_tag": "ABX9TyModlGKQh1uuEtxRsId+bkt",
      "include_colab_link": true
    },
    "kernelspec": {
      "name": "python3",
      "display_name": "Python 3"
    },
    "language_info": {
      "name": "python"
    }
  },
  "cells": [
    {
      "cell_type": "markdown",
      "metadata": {
        "id": "view-in-github",
        "colab_type": "text"
      },
      "source": [
        "<a href=\"https://colab.research.google.com/github/vinigm/Estudos/blob/main/2_ComandosUteis.ipynb\" target=\"_parent\"><img src=\"https://colab.research.google.com/assets/colab-badge.svg\" alt=\"Open In Colab\"/></a>"
      ]
    },
    {
      "cell_type": "markdown",
      "source": [
        "# **Python - Comandos Úteis**\n",
        "---\n",
        "\n",
        "Comandos úteis durante as fases de exploração e limpeza de dados.\n"
      ],
      "metadata": {
        "id": "mLfeQ57psZVk"
      }
    },
    {
      "cell_type": "markdown",
      "source": [
        "**Começar importando todas as bibliotecas necessárias**"
      ],
      "metadata": {
        "id": "VZ4RHqxxhW1K"
      }
    },
    {
      "cell_type": "code",
      "source": [
        "import pandas as pd\n",
        "import matplotlib.pyplot as plt\n",
        "import seaborn as sns"
      ],
      "metadata": {
        "id": "X-VSm22BhsX8"
      },
      "execution_count": null,
      "outputs": []
    },
    {
      "cell_type": "code",
      "source": [
        "df.head()\n",
        "df.info          #Verificamos se temos dados faltantes"
      ],
      "metadata": {
        "id": "HFXdPkm6hyvm"
      },
      "execution_count": null,
      "outputs": []
    }
  ]
}