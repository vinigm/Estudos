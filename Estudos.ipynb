{
  "nbformat": 4,
  "nbformat_minor": 0,
  "metadata": {
    "colab": {
      "name": "Estudos",
      "provenance": [],
      "authorship_tag": "ABX9TyMpoGiUs8vIAMJnJW6lL7AC",
      "include_colab_link": true
    },
    "kernelspec": {
      "name": "python3",
      "display_name": "Python 3"
    },
    "language_info": {
      "name": "python"
    }
  },
  "cells": [
    {
      "cell_type": "markdown",
      "metadata": {
        "id": "view-in-github",
        "colab_type": "text"
      },
      "source": [
        "<a href=\"https://colab.research.google.com/github/vinigm/Estudos/blob/main/Estudos.ipynb\" target=\"_parent\"><img src=\"https://colab.research.google.com/assets/colab-badge.svg\" alt=\"Open In Colab\"/></a>"
      ]
    },
    {
      "cell_type": "markdown",
      "source": [
        "**#62 - Dicionários**\n",
        "---\n",
        "\n"
      ],
      "metadata": {
        "id": "UT5lzuGVY1_c"
      }
    },
    {
      "cell_type": "markdown",
      "source": [
        "Criando um dicionario qualquer e apresentando os dados"
      ],
      "metadata": {
        "id": "4cwhMrVJaC4H"
      }
    },
    {
      "cell_type": "code",
      "execution_count": 8,
      "metadata": {
        "colab": {
          "base_uri": "https://localhost:8080/"
        },
        "id": "3Sn9WPoQXBPV",
        "outputId": "364df08b-f308-4c7f-ae9f-9a6f8c967df6"
      },
      "outputs": [
        {
          "output_type": "stream",
          "name": "stdout",
          "text": [
            "{'chave1': 'valor da chave'}\n",
            "valor da chave\n",
            "{'chave1': 'valor da chave', 'nova chave': 'valor da nova chave'}\n"
          ]
        }
      ],
      "source": [
        "d1 = {'chave1':'valor da chave'} #criando o dicionario\n",
        "\n",
        "print(d1) #printando o dicionario\n",
        "\n",
        "d1['nova chave'] = 'valor da nova chave' #adicionando uma nova chave\n",
        "\n",
        "print(d1['chave1'])\n",
        "\n",
        "print(d1)"
      ]
    },
    {
      "cell_type": "code",
      "source": [
        "d1 = {\n",
        "    'str': 'valor',\n",
        "    123: 'outro valor',\n",
        "    (1,2,3,4,5) : 'Tupla',\n",
        "}\n",
        "\n",
        "print(d1) #printando o novo dicionario d1 com varios elementos"
      ],
      "metadata": {
        "colab": {
          "base_uri": "https://localhost:8080/"
        },
        "id": "RtNjKjK5YhSL",
        "outputId": "48498835-2a83-44dc-a889-1abcd84fff36"
      },
      "execution_count": 16,
      "outputs": [
        {
          "output_type": "stream",
          "name": "stdout",
          "text": [
            "{'str': 'valor', 123: 'outro valor', (1, 2, 3, 4, 5): 'Tupla'}\n"
          ]
        }
      ]
    },
    {
      "cell_type": "markdown",
      "source": [
        "Printando None caso não exista a chave dentro do meu dicionario"
      ],
      "metadata": {
        "id": "yiwVGBwWaHN6"
      }
    },
    {
      "cell_type": "code",
      "source": [
        "print(d1.get('naoexiste'))"
      ],
      "metadata": {
        "colab": {
          "base_uri": "https://localhost:8080/"
        },
        "id": "QdmJXTFnZExs",
        "outputId": "5e32d9b3-1f9e-48b3-e56e-3ee869dc3054"
      },
      "execution_count": 13,
      "outputs": [
        {
          "output_type": "stream",
          "name": "stdout",
          "text": [
            "None\n"
          ]
        }
      ]
    },
    {
      "cell_type": "markdown",
      "source": [
        "Alterando o valor de uma chave dentro do dicionario"
      ],
      "metadata": {
        "id": "FSPTTHqQZyvz"
      }
    },
    {
      "cell_type": "code",
      "source": [
        "d1['str'] = 'agora essa chave é outra'\n",
        "\n",
        "print(d1)"
      ],
      "metadata": {
        "colab": {
          "base_uri": "https://localhost:8080/"
        },
        "id": "vXpybLYZZEFV",
        "outputId": "5e57dd2a-8f24-43df-c884-88ec3c6169c3"
      },
      "execution_count": 15,
      "outputs": [
        {
          "output_type": "stream",
          "name": "stdout",
          "text": [
            "{'str': 'agora essa chave é outra', 123: 'outro valor', (1, 2, 3, 4, 5): 'Tupla'}\n"
          ]
        }
      ]
    },
    {
      "cell_type": "markdown",
      "source": [
        "Apagando uma chave"
      ],
      "metadata": {
        "id": "Di1dz6jOaMC_"
      }
    },
    {
      "cell_type": "code",
      "source": [
        "del d1['str']\n",
        "\n",
        "print(d1)"
      ],
      "metadata": {
        "colab": {
          "base_uri": "https://localhost:8080/"
        },
        "id": "D8Jo8b7CaMpt",
        "outputId": "19d4ec4a-f51a-4ac2-96c7-e808ed78537a"
      },
      "execution_count": 17,
      "outputs": [
        {
          "output_type": "stream",
          "name": "stdout",
          "text": [
            "{123: 'outro valor', (1, 2, 3, 4, 5): 'Tupla'}\n"
          ]
        }
      ]
    },
    {
      "cell_type": "code",
      "source": [
        "d1 = {\n",
        "    'str': 'valor',\n",
        "    123: 'outro valor',\n",
        "    (1,2,3,4,5) : 'Tupla',\n",
        "}\n",
        "\n",
        "print('str' in d1.values()) #Encontrando se existe valores dentro das chaves - o retorno é Booleano\n",
        "\n",
        "print(len(d1)) #retorna o tamanho do dicionario"
      ],
      "metadata": {
        "colab": {
          "base_uri": "https://localhost:8080/"
        },
        "id": "DEfXUfD9ar1v",
        "outputId": "f83f860c-583f-48f6-d2b6-830bad6c47aa"
      },
      "execution_count": 20,
      "outputs": [
        {
          "output_type": "stream",
          "name": "stdout",
          "text": [
            "False\n",
            "3\n"
          ]
        }
      ]
    },
    {
      "cell_type": "code",
      "source": [
        "d1 = {\n",
        "    'chave1' : 'valor',\n",
        "    'chave2' : 'valor dois',\n",
        "    'chave3' : 'valor tres',\n",
        "}\n",
        "\n",
        "print(\"Printando toda chave:\")\n",
        "print(d1)\n",
        "\n",
        "print(\"\")\n",
        "\n",
        "print(\"Printando um item da chave de cada vez:\")\n",
        "for k in d1.items():\n",
        "  print(k)\n",
        "\n",
        "print(\"\")\n",
        "\n",
        "print(\"Printando apenas os valores\")\n",
        "for k,v in d1.items():\n",
        "  print(k,v)\n"
      ],
      "metadata": {
        "id": "mRf6wyz2bI4u"
      },
      "execution_count": null,
      "outputs": []
    },
    {
      "cell_type": "code",
      "source": [
        "clientes = {\n",
        "    'cliente1' : {\n",
        "        'nome': 'Luiz',\n",
        "        'sobrenome':'Otavio',\n",
        "    },\n",
        "    'cliente2': {\n",
        "      'nome': 'Joao',\n",
        "      'sobrenome':'Moreira',\n",
        "    },\n",
        "},\n",
        "\n",
        "for clientes_k, clientes_v in clientes.items():\n",
        "  print(f'Exibindo {clientes_k}')\n",
        "  for dados_k, dados_v in clientes_v.items():\n",
        "    print(f'\\t{dados_k} = {dados_v}' )"
      ],
      "metadata": {
        "id": "YdqW5wP9cG8t"
      },
      "execution_count": null,
      "outputs": []
    },
    {
      "cell_type": "code",
      "source": [
        ""
      ],
      "metadata": {
        "id": "hYwduCfjtDst"
      },
      "execution_count": null,
      "outputs": []
    }
  ]
}