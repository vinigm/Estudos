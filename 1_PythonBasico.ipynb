{
  "nbformat": 4,
  "nbformat_minor": 0,
  "metadata": {
    "colab": {
      "name": "Estudos",
      "provenance": [],
      "authorship_tag": "ABX9TyM93HVgCEkcl6406rhYOg81",
      "include_colab_link": true
    },
    "kernelspec": {
      "name": "python3",
      "display_name": "Python 3"
    },
    "language_info": {
      "name": "python"
    }
  },
  "cells": [
    {
      "cell_type": "markdown",
      "metadata": {
        "id": "view-in-github",
        "colab_type": "text"
      },
      "source": [
        "<a href=\"https://colab.research.google.com/github/vinigm/Estudos/blob/main/Estudos.ipynb\" target=\"_parent\"><img src=\"https://colab.research.google.com/assets/colab-badge.svg\" alt=\"Open In Colab\"/></a>"
      ]
    },
    {
      "cell_type": "markdown",
      "source": [
        "**#62 - Dicionários**\n",
        "---\n",
        "\n"
      ],
      "metadata": {
        "id": "UT5lzuGVY1_c"
      }
    },
    {
      "cell_type": "markdown",
      "source": [
        "Criando um dicionario qualquer e apresentando os dados"
      ],
      "metadata": {
        "id": "4cwhMrVJaC4H"
      }
    },
    {
      "cell_type": "code",
      "execution_count": 2,
      "metadata": {
        "colab": {
          "base_uri": "https://localhost:8080/"
        },
        "id": "3Sn9WPoQXBPV",
        "outputId": "c14b0f06-2d9d-41af-eecd-bd45cd72f35e"
      },
      "outputs": [
        {
          "output_type": "stream",
          "name": "stdout",
          "text": [
            "{'chave1': 'valor da chave'}\n",
            "valor da chave\n",
            "{'chave1': 'valor da chave', 'nova chave': 'valor da nova chave'}\n"
          ]
        }
      ],
      "source": [
        "d1 = {'chave1':'valor da chave'} #criando o dicionario\n",
        "\n",
        "print(d1) #printando o dicionario\n",
        "\n",
        "d1['nova chave'] = 'valor da nova chave' #adicionando uma nova chave\n",
        "\n",
        "print(d1['chave1'])\n",
        "\n",
        "print(d1)"
      ]
    },
    {
      "cell_type": "code",
      "source": [
        "d1 = {\n",
        "    'str': 'valor',\n",
        "    123: 'outro valor',\n",
        "    (1,2,3,4,5) : 'Tupla',\n",
        "}\n",
        "\n",
        "print(d1) #printando o novo dicionario d1 com varios elementos"
      ],
      "metadata": {
        "colab": {
          "base_uri": "https://localhost:8080/"
        },
        "id": "RtNjKjK5YhSL",
        "outputId": "e922a99b-1c5a-4567-bdd5-240bc8261a22"
      },
      "execution_count": 3,
      "outputs": [
        {
          "output_type": "stream",
          "name": "stdout",
          "text": [
            "{'str': 'valor', 123: 'outro valor', (1, 2, 3, 4, 5): 'Tupla'}\n"
          ]
        }
      ]
    },
    {
      "cell_type": "markdown",
      "source": [
        "Printando None caso não exista a chave dentro do meu dicionario"
      ],
      "metadata": {
        "id": "yiwVGBwWaHN6"
      }
    },
    {
      "cell_type": "code",
      "source": [
        "print(d1.get('naoexiste'))"
      ],
      "metadata": {
        "colab": {
          "base_uri": "https://localhost:8080/"
        },
        "id": "QdmJXTFnZExs",
        "outputId": "acc51970-fb04-4abc-b61b-5ca08c8f303a"
      },
      "execution_count": 4,
      "outputs": [
        {
          "output_type": "stream",
          "name": "stdout",
          "text": [
            "None\n"
          ]
        }
      ]
    },
    {
      "cell_type": "markdown",
      "source": [
        "Alterando o valor de uma chave dentro do dicionario"
      ],
      "metadata": {
        "id": "FSPTTHqQZyvz"
      }
    },
    {
      "cell_type": "code",
      "source": [
        "d1['str'] = 'agora essa chave é outra'\n",
        "\n",
        "print(d1)"
      ],
      "metadata": {
        "colab": {
          "base_uri": "https://localhost:8080/"
        },
        "id": "vXpybLYZZEFV",
        "outputId": "312cf1cc-30bb-45fe-bf95-5b834b8ae994"
      },
      "execution_count": 5,
      "outputs": [
        {
          "output_type": "stream",
          "name": "stdout",
          "text": [
            "{'str': 'agora essa chave é outra', 123: 'outro valor', (1, 2, 3, 4, 5): 'Tupla'}\n"
          ]
        }
      ]
    },
    {
      "cell_type": "markdown",
      "source": [
        "Apagando uma chave"
      ],
      "metadata": {
        "id": "Di1dz6jOaMC_"
      }
    },
    {
      "cell_type": "code",
      "source": [
        "del d1['str']\n",
        "\n",
        "print(d1)"
      ],
      "metadata": {
        "colab": {
          "base_uri": "https://localhost:8080/"
        },
        "id": "D8Jo8b7CaMpt",
        "outputId": "7540cf07-2140-4f3d-c120-b44207763d99"
      },
      "execution_count": 6,
      "outputs": [
        {
          "output_type": "stream",
          "name": "stdout",
          "text": [
            "{123: 'outro valor', (1, 2, 3, 4, 5): 'Tupla'}\n"
          ]
        }
      ]
    },
    {
      "cell_type": "code",
      "source": [
        "d1 = {\n",
        "    'str': 'valor',\n",
        "    123: 'outro valor',\n",
        "    (1,2,3,4,5) : 'Tupla',\n",
        "}\n",
        "\n",
        "print('str' in d1.values()) #Encontrando se existe valores dentro das chaves - o retorno é Booleano\n",
        "\n",
        "print(len(d1)) #retorna o tamanho do dicionario"
      ],
      "metadata": {
        "colab": {
          "base_uri": "https://localhost:8080/"
        },
        "id": "DEfXUfD9ar1v",
        "outputId": "10fbeba2-40ef-4615-a6ca-341c37419661"
      },
      "execution_count": 7,
      "outputs": [
        {
          "output_type": "stream",
          "name": "stdout",
          "text": [
            "False\n",
            "3\n"
          ]
        }
      ]
    },
    {
      "cell_type": "code",
      "source": [
        "d1 = {\n",
        "    'chave1' : 'valor',\n",
        "    'chave2' : 'valor dois',\n",
        "    'chave3' : 'valor tres',\n",
        "}\n",
        "\n",
        "print(\"Printando toda chave:\")\n",
        "print(d1)\n",
        "\n",
        "print(\"\")\n",
        "\n",
        "print(\"Printando um item da chave de cada vez:\")\n",
        "for k in d1.items():\n",
        "  print(k)\n",
        "\n",
        "print(\"\")\n",
        "\n",
        "print(\"Printando apenas os valores\")\n",
        "for k,v in d1.items():\n",
        "  print(k,v)\n"
      ],
      "metadata": {
        "id": "mRf6wyz2bI4u",
        "colab": {
          "base_uri": "https://localhost:8080/"
        },
        "outputId": "368265d4-501f-404f-f01a-f6bd667dc8da"
      },
      "execution_count": 8,
      "outputs": [
        {
          "output_type": "stream",
          "name": "stdout",
          "text": [
            "Printando toda chave:\n",
            "{'chave1': 'valor', 'chave2': 'valor dois', 'chave3': 'valor tres'}\n",
            "\n",
            "Printando um item da chave de cada vez:\n",
            "('chave1', 'valor')\n",
            "('chave2', 'valor dois')\n",
            "('chave3', 'valor tres')\n",
            "\n",
            "Printando apenas os valores\n",
            "chave1 valor\n",
            "chave2 valor dois\n",
            "chave3 valor tres\n"
          ]
        }
      ]
    },
    {
      "cell_type": "code",
      "source": [
        ""
      ],
      "metadata": {
        "id": "YdqW5wP9cG8t"
      },
      "execution_count": 10,
      "outputs": []
    },
    {
      "cell_type": "markdown",
      "source": [
        ""
      ],
      "metadata": {
        "id": "2YXDycleC-z3"
      }
    },
    {
      "cell_type": "markdown",
      "source": [
        "# **#66 - List Comprehension**"
      ],
      "metadata": {
        "id": "ZA4a31BpDBC0"
      }
    },
    {
      "cell_type": "code",
      "source": [
        "\n",
        "l1 = [1,2,3,4,5,6,7,8,9]\n",
        "exemplo1 = [variavel for variavel in l1]\n",
        "exemplo2 = [v * 2 for v in l1]\n",
        "print(exemplo2)\n",
        "\n"
      ],
      "metadata": {
        "colab": {
          "base_uri": "https://localhost:8080/"
        },
        "id": "AI_7lOdUDI5B",
        "outputId": "26ed9f3c-5cd4-4604-c74b-5f38b6032ab5"
      },
      "execution_count": 12,
      "outputs": [
        {
          "output_type": "stream",
          "name": "stdout",
          "text": [
            "[2, 4, 6, 8, 10, 12, 14, 16, 18]\n"
          ]
        }
      ]
    },
    {
      "cell_type": "code",
      "source": [
        "exemplo3 = [(v, v2) for v in l1 for v2 in range(3)]\n",
        "print(exemplo3)"
      ],
      "metadata": {
        "colab": {
          "base_uri": "https://localhost:8080/"
        },
        "id": "gmBpq9FyDnLo",
        "outputId": "a81e6a86-709f-48a0-d270-20a3ab1f8a29"
      },
      "execution_count": 13,
      "outputs": [
        {
          "output_type": "stream",
          "name": "stdout",
          "text": [
            "[(1, 0), (1, 1), (1, 2), (2, 0), (2, 1), (2, 2), (3, 0), (3, 1), (3, 2), (4, 0), (4, 1), (4, 2), (5, 0), (5, 1), (5, 2), (6, 0), (6, 1), (6, 2), (7, 0), (7, 1), (7, 2), (8, 0), (8, 1), (8, 2), (9, 0), (9, 1), (9, 2)]\n"
          ]
        }
      ]
    },
    {
      "cell_type": "markdown",
      "source": [
        "Substituindo todos os A's por @'s"
      ],
      "metadata": {
        "id": "wM8BEAUlEEQ_"
      }
    },
    {
      "cell_type": "code",
      "source": [
        "l2 = ['Luiz', 'Mauro', 'Maria']\n",
        "exemplo4 = [v.replace('a', '@') for v in l2]\n",
        "\n",
        "print(exemplo4)"
      ],
      "metadata": {
        "colab": {
          "base_uri": "https://localhost:8080/"
        },
        "id": "KubEgwOlD3KA",
        "outputId": "03c87370-2b5a-435f-a3ef-1008f9008a75"
      },
      "execution_count": 14,
      "outputs": [
        {
          "output_type": "stream",
          "name": "stdout",
          "text": [
            "['Luiz', 'M@uro', 'M@ri@']\n"
          ]
        }
      ]
    },
    {
      "cell_type": "markdown",
      "source": [
        "Invertendo os valores"
      ],
      "metadata": {
        "id": "ijbEHtsKEcS7"
      }
    },
    {
      "cell_type": "code",
      "source": [
        "tupla = (\n",
        "    ('chave', 'valor'),\n",
        "    ('chave2', 'valor2'),\n",
        "  )\n",
        "\n",
        "exemplo5 = [(y,x) for x, y in tupla]\n",
        "print(exemplo5)"
      ],
      "metadata": {
        "colab": {
          "base_uri": "https://localhost:8080/"
        },
        "id": "KHnsAn0hEIkL",
        "outputId": "88c862dd-ef7c-4acc-b386-ff2598a16f53"
      },
      "execution_count": 18,
      "outputs": [
        {
          "output_type": "stream",
          "name": "stdout",
          "text": [
            "[('valor', 'chave'), ('valor2', 'chave2')]\n"
          ]
        }
      ]
    },
    {
      "cell_type": "markdown",
      "source": [
        "Pegando apenas os numeros que sao divisiveis por 2"
      ],
      "metadata": {
        "id": "QxFwXVrkE14z"
      }
    },
    {
      "cell_type": "code",
      "source": [
        "l3 = list(range(100))\n",
        "exemplo6 = [v for v in l3 if v % 2 == 0]\n",
        "print(exemplo6)"
      ],
      "metadata": {
        "colab": {
          "base_uri": "https://localhost:8080/"
        },
        "id": "yzNSRel9EpSU",
        "outputId": "c81108b6-c460-4fa0-fc94-16879e6f1849"
      },
      "execution_count": 21,
      "outputs": [
        {
          "output_type": "stream",
          "name": "stdout",
          "text": [
            "[0, 2, 4, 6, 8, 10, 12, 14, 16, 18, 20, 22, 24, 26, 28, 30, 32, 34, 36, 38, 40, 42, 44, 46, 48, 50, 52, 54, 56, 58, 60, 62, 64, 66, 68, 70, 72, 74, 76, 78, 80, 82, 84, 86, 88, 90, 92, 94, 96, 98]\n"
          ]
        }
      ]
    },
    {
      "cell_type": "markdown",
      "source": [
        "Numeros divisiveis por 3 e 8"
      ],
      "metadata": {
        "id": "0Z5ACGkWFSKJ"
      }
    },
    {
      "cell_type": "code",
      "source": [
        "l4 = list(range(100))\n",
        "exemplo7 = [v for v in l4 if v % 3 == 0 if v % 8 == 0 ]\n",
        "print(exemplo7)"
      ],
      "metadata": {
        "colab": {
          "base_uri": "https://localhost:8080/"
        },
        "id": "ki9hu3u2FCSM",
        "outputId": "2ec88465-4176-4db4-d2e6-85cfcf08b9aa"
      },
      "execution_count": 22,
      "outputs": [
        {
          "output_type": "stream",
          "name": "stdout",
          "text": [
            "[0, 24, 48, 72, 96]\n"
          ]
        }
      ]
    },
    {
      "cell_type": "code",
      "source": [
        "l5 = list(range(100))\n",
        "exemplo8 = [v if v % 3 == 0 else 0 for v in l5]\n",
        "print(exemplo8)"
      ],
      "metadata": {
        "colab": {
          "base_uri": "https://localhost:8080/"
        },
        "id": "8S_DDZdqFRcY",
        "outputId": "5dd95e0b-63d9-4fb1-e461-d673ac45116a"
      },
      "execution_count": 24,
      "outputs": [
        {
          "output_type": "stream",
          "name": "stdout",
          "text": [
            "[0, 0, 0, 3, 0, 0, 6, 0, 0, 9, 0, 0, 12, 0, 0, 15, 0, 0, 18, 0, 0, 21, 0, 0, 24, 0, 0, 27, 0, 0, 30, 0, 0, 33, 0, 0, 36, 0, 0, 39, 0, 0, 42, 0, 0, 45, 0, 0, 48, 0, 0, 51, 0, 0, 54, 0, 0, 57, 0, 0, 60, 0, 0, 63, 0, 0, 66, 0, 0, 69, 0, 0, 72, 0, 0, 75, 0, 0, 78, 0, 0, 81, 0, 0, 84, 0, 0, 87, 0, 0, 90, 0, 0, 93, 0, 0, 96, 0, 0, 99]\n"
          ]
        }
      ]
    },
    {
      "cell_type": "markdown",
      "source": [
        "**EXERCICIO - LIST COMPREHENSION**"
      ],
      "metadata": {
        "id": "eKuFWFHuF2NE"
      }
    },
    {
      "cell_type": "markdown",
      "source": [
        "Criar a variavel:\n",
        "\n",
        "string = '012345678901234567890123456789012345678901234567890123456789'\n",
        "\n",
        "Separar de 0 a 9 de maneira que fique assim:\n",
        "\n",
        "lista = ['0123456789', '0123456789', '0123456789', ... , '0123456789']\n",
        "\n",
        "Após fazer isso retornar:\n",
        "\n",
        "retorno = '0123456789.0123456789.0123456789.0123456789.0123456789...0123456789'"
      ],
      "metadata": {
        "id": "sEvuAxnRF5nn"
      }
    },
    {
      "cell_type": "code",
      "source": [
        ""
      ],
      "metadata": {
        "id": "UnFElgbTF4w6"
      },
      "execution_count": null,
      "outputs": []
    }
  ]
}
