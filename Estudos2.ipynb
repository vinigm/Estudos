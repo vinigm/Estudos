{
  "nbformat": 4,
  "nbformat_minor": 0,
  "metadata": {
    "colab": {
      "name": "Estudos2.ipynb",
      "provenance": [],
      "authorship_tag": "ABX9TyMb1Ji3CF1wEADnKqjuk8Ul",
      "include_colab_link": true
    },
    "kernelspec": {
      "name": "python3",
      "display_name": "Python 3"
    },
    "language_info": {
      "name": "python"
    }
  },
  "cells": [
    {
      "cell_type": "markdown",
      "metadata": {
        "id": "view-in-github",
        "colab_type": "text"
      },
      "source": [
        "<a href=\"https://colab.research.google.com/github/vinigm/Estudos/blob/main/Estudos2.ipynb\" target=\"_parent\"><img src=\"https://colab.research.google.com/assets/colab-badge.svg\" alt=\"Open In Colab\"/></a>"
      ]
    },
    {
      "cell_type": "markdown",
      "source": [
        "# **Exploratory Analysis in Python**\n",
        "---\n",
        "\n"
      ],
      "metadata": {
        "id": "mLfeQ57psZVk"
      }
    },
    {
      "cell_type": "markdown",
      "source": [
        "**CLEAN AND VALIDADE**\n",
        "\n",
        "Para analisar uma coluna especifica, primeiro criamos uma variavel para a coluna, no caso, nosso dataframe vem de uma tabela \"NSFG\" e nossa coluna de inspeção vai ser \"birthwgt_lb1\", vamos colocar essa coluna na variavel \"pounds\"\n",
        "\n",
        "pounds = nsfg[\"birthwgt_lb1\"]\n",
        "\n",
        "pounds.value_counts().sort_index()\n",
        "\n",
        "cria uma distribuição\n",
        "\n",
        "usamos essa distribuição pra comparar com o codebook para ter uma noção se estamos com dados consistentes\n",
        "\n",
        "\n",
        "pounds.describe()\n",
        "\n",
        "cria uma tabelinha com varios dados estatisticos bem uteis\n",
        "\n",
        "nesse caso da tabela pounds temos missing data 98 e 99 e usamos\n",
        "\n",
        "pounds = pounds.replace([98,99], np.nan)\n",
        "pounds.mean() vai mudar pois mudamos os dados 98 e 99\n",
        "\n"
      ],
      "metadata": {
        "id": "wct1wWzfufqY"
      }
    },
    {
      "cell_type": "markdown",
      "source": [
        "**FILTER AND VISUALIZE**\n",
        "\n",
        "Primeiro faremos um histogram usando o matplotlib\n",
        "\n",
        "plt.hist(birth_weight.dropna(), bins=30)"
      ],
      "metadata": {
        "id": "U725lpOtyq50"
      }
    },
    {
      "cell_type": "markdown",
      "source": [
        "Para filtrar algum elemento usamos uma variavel e um boolean\n",
        "\n",
        "preterm = nsfg['prglngth'] < 37\n",
        "\n",
        "pegamos os bebes com menos de 37 e isso nos retorna uma list de booleans\n",
        "0 False\n",
        "1 True\n",
        "etc...\n",
        "\n",
        "Então pegamos a soma dos trues:\n",
        "preterm.sum()\n",
        "\n",
        "e pegamos tb a média dos trues:\n",
        "preterm.mean() que no nosso caso vai dar 0.39, ou seja 40% dos bebes do nosso exemplo tem <37 \n",
        "\n",
        "\n",
        "preterm_weight = brith_weight[preterm] a variavel que criamos contem pesos de nascimento para os bebes prematuros\n",
        "\n",
        "fazemos a média\n",
        "\n",
        "podemos usar tb logical operators quando estamos lidando com booleans\n",
        "\n"
      ],
      "metadata": {
        "id": "wgjKX4yEzI1G"
      }
    },
    {
      "cell_type": "code",
      "source": [
        "**PROBABILITY MASS FUNCTIONS**\n",
        "\n"
      ],
      "metadata": {
        "id": "L8yrOOIR5WqS"
      },
      "execution_count": null,
      "outputs": []
    }
  ]
}